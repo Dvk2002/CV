{
  "nbformat": 4,
  "nbformat_minor": 0,
  "metadata": {
    "colab": {
      "name": "HW5.ipynb",
      "provenance": [],
      "collapsed_sections": []
    },
    "kernelspec": {
      "name": "python3",
      "display_name": "Python 3"
    },
    "language_info": {
      "name": "python"
    },
    "accelerator": "GPU"
  },
  "cells": [
    {
      "cell_type": "code",
      "metadata": {
        "id": "rpZvSv9Q3LSm"
      },
      "source": [
        "import os\n",
        "import pathlib\n",
        "\n",
        "import matplotlib\n",
        "import matplotlib.pyplot as plt\n",
        "\n",
        "import io\n",
        "import scipy.misc\n",
        "import numpy as np\n",
        "from six import BytesIO\n",
        "from PIL import Image, ImageDraw, ImageFont\n",
        "from six.moves.urllib.request import urlopen\n",
        "\n",
        "import tensorflow as tf\n",
        "import tensorflow_hub as hub\n",
        "\n",
        "tf.get_logger().setLevel('ERROR')\n",
        "\n"
      ],
      "execution_count": 1,
      "outputs": []
    },
    {
      "cell_type": "code",
      "metadata": {
        "id": "CbdYu_7clkGo"
      },
      "source": [
        "\n",
        "def warn(*args, **kwargs):\n",
        "    pass\n",
        "import warnings\n",
        "warnings.warn = warn"
      ],
      "execution_count": null,
      "outputs": []
    },
    {
      "cell_type": "code",
      "metadata": {
        "id": "hbpBukcR1mIV"
      },
      "source": [
        "gpus = tf.config.list_physical_devices('GPU')\n",
        "tf.config.set_visible_devices(gpus[0], 'GPU')"
      ],
      "execution_count": 2,
      "outputs": []
    },
    {
      "cell_type": "code",
      "metadata": {
        "colab": {
          "base_uri": "https://localhost:8080/"
        },
        "id": "FQCrmADhUa7F",
        "outputId": "24104bd7-4857-4ed2-97fa-0e98f8371cf0"
      },
      "source": [
        "# Clone the tensorflow models repository\n",
        "!git clone --depth 1 https://github.com/tensorflow/models"
      ],
      "execution_count": 3,
      "outputs": [
        {
          "output_type": "stream",
          "name": "stdout",
          "text": [
            "Cloning into 'models'...\n",
            "remote: Enumerating objects: 2922, done.\u001b[K\n",
            "remote: Counting objects: 100% (2922/2922), done.\u001b[K\n",
            "remote: Compressing objects: 100% (2452/2452), done.\u001b[K\n",
            "remote: Total 2922 (delta 742), reused 1290 (delta 432), pack-reused 0\u001b[K\n",
            "Receiving objects: 100% (2922/2922), 32.98 MiB | 26.80 MiB/s, done.\n",
            "Resolving deltas: 100% (742/742), done.\n"
          ]
        }
      ]
    },
    {
      "cell_type": "code",
      "metadata": {
        "colab": {
          "base_uri": "https://localhost:8080/"
        },
        "id": "Pte4yHoIUmWx",
        "outputId": "04322bca-308e-41e4-d282-847f251aabb6"
      },
      "source": [
        "\n",
        "%%bash\n",
        "sudo apt install -y protobuf-compiler\n",
        "cd models/research/\n",
        "protoc object_detection/protos/*.proto --python_out=.\n",
        "cp object_detection/packages/tf2/setup.py .\n",
        "python -m pip install ."
      ],
      "execution_count": 4,
      "outputs": [
        {
          "output_type": "stream",
          "name": "stdout",
          "text": [
            "Reading package lists...\n",
            "Building dependency tree...\n",
            "Reading state information...\n",
            "protobuf-compiler is already the newest version (3.0.0-9.1ubuntu1).\n",
            "0 upgraded, 0 newly installed, 0 to remove and 37 not upgraded.\n",
            "Processing /content/models/research\n",
            "Collecting avro-python3\n",
            "  Downloading avro-python3-1.10.2.tar.gz (38 kB)\n",
            "Collecting apache-beam\n",
            "  Downloading apache_beam-2.32.0-cp37-cp37m-manylinux2010_x86_64.whl (9.8 MB)\n",
            "Requirement already satisfied: pillow in /usr/local/lib/python3.7/dist-packages (from object-detection==0.1) (7.1.2)\n",
            "Requirement already satisfied: lxml in /usr/local/lib/python3.7/dist-packages (from object-detection==0.1) (4.2.6)\n",
            "Requirement already satisfied: matplotlib in /usr/local/lib/python3.7/dist-packages (from object-detection==0.1) (3.2.2)\n",
            "Requirement already satisfied: Cython in /usr/local/lib/python3.7/dist-packages (from object-detection==0.1) (0.29.24)\n",
            "Requirement already satisfied: contextlib2 in /usr/local/lib/python3.7/dist-packages (from object-detection==0.1) (0.5.5)\n",
            "Collecting tf-slim\n",
            "  Downloading tf_slim-1.1.0-py2.py3-none-any.whl (352 kB)\n",
            "Requirement already satisfied: six in /usr/local/lib/python3.7/dist-packages (from object-detection==0.1) (1.15.0)\n",
            "Requirement already satisfied: pycocotools in /usr/local/lib/python3.7/dist-packages (from object-detection==0.1) (2.0.2)\n",
            "Collecting lvis\n",
            "  Downloading lvis-0.5.3-py3-none-any.whl (14 kB)\n",
            "Requirement already satisfied: scipy in /usr/local/lib/python3.7/dist-packages (from object-detection==0.1) (1.4.1)\n",
            "Requirement already satisfied: pandas in /usr/local/lib/python3.7/dist-packages (from object-detection==0.1) (1.1.5)\n",
            "Collecting tf-models-official>=2.5.1\n",
            "  Downloading tf_models_official-2.6.0-py2.py3-none-any.whl (1.8 MB)\n",
            "Requirement already satisfied: tensorflow-hub>=0.6.0 in /usr/local/lib/python3.7/dist-packages (from tf-models-official>=2.5.1->object-detection==0.1) (0.12.0)\n",
            "Collecting py-cpuinfo>=3.3.0\n",
            "  Downloading py-cpuinfo-8.0.0.tar.gz (99 kB)\n",
            "Requirement already satisfied: kaggle>=1.3.9 in /usr/local/lib/python3.7/dist-packages (from tf-models-official>=2.5.1->object-detection==0.1) (1.5.12)\n",
            "Collecting opencv-python-headless\n",
            "  Downloading opencv_python_headless-4.5.3.56-cp37-cp37m-manylinux2014_x86_64.whl (37.1 MB)\n",
            "Requirement already satisfied: gin-config in /usr/local/lib/python3.7/dist-packages (from tf-models-official>=2.5.1->object-detection==0.1) (0.4.0)\n",
            "Collecting sacrebleu\n",
            "  Downloading sacrebleu-2.0.0-py3-none-any.whl (90 kB)\n",
            "Collecting tensorflow-model-optimization>=0.4.1\n",
            "  Downloading tensorflow_model_optimization-0.6.0-py2.py3-none-any.whl (211 kB)\n",
            "Collecting tensorflow-text>=2.5.0\n",
            "  Downloading tensorflow_text-2.6.0-cp37-cp37m-manylinux1_x86_64.whl (4.4 MB)\n",
            "Requirement already satisfied: google-api-python-client>=1.6.7 in /usr/local/lib/python3.7/dist-packages (from tf-models-official>=2.5.1->object-detection==0.1) (1.12.8)\n",
            "Requirement already satisfied: tensorflow-datasets in /usr/local/lib/python3.7/dist-packages (from tf-models-official>=2.5.1->object-detection==0.1) (4.0.1)\n",
            "Collecting pyyaml>=5.1\n",
            "  Downloading PyYAML-5.4.1-cp37-cp37m-manylinux1_x86_64.whl (636 kB)\n",
            "Collecting tensorflow-addons\n",
            "  Downloading tensorflow_addons-0.14.0-cp37-cp37m-manylinux_2_12_x86_64.manylinux2010_x86_64.whl (1.1 MB)\n",
            "Requirement already satisfied: tensorflow>=2.5.0 in /usr/local/lib/python3.7/dist-packages (from tf-models-official>=2.5.1->object-detection==0.1) (2.6.0)\n",
            "Collecting sentencepiece\n",
            "  Downloading sentencepiece-0.1.96-cp37-cp37m-manylinux_2_17_x86_64.manylinux2014_x86_64.whl (1.2 MB)\n",
            "Collecting seqeval\n",
            "  Downloading seqeval-1.2.2.tar.gz (43 kB)\n",
            "Requirement already satisfied: oauth2client in /usr/local/lib/python3.7/dist-packages (from tf-models-official>=2.5.1->object-detection==0.1) (4.1.3)\n",
            "Requirement already satisfied: psutil>=5.4.3 in /usr/local/lib/python3.7/dist-packages (from tf-models-official>=2.5.1->object-detection==0.1) (5.4.8)\n",
            "Requirement already satisfied: numpy>=1.15.4 in /usr/local/lib/python3.7/dist-packages (from tf-models-official>=2.5.1->object-detection==0.1) (1.19.5)\n",
            "Requirement already satisfied: httplib2<1dev,>=0.15.0 in /usr/local/lib/python3.7/dist-packages (from google-api-python-client>=1.6.7->tf-models-official>=2.5.1->object-detection==0.1) (0.17.4)\n",
            "Requirement already satisfied: google-api-core<2dev,>=1.21.0 in /usr/local/lib/python3.7/dist-packages (from google-api-python-client>=1.6.7->tf-models-official>=2.5.1->object-detection==0.1) (1.26.3)\n",
            "Requirement already satisfied: google-auth-httplib2>=0.0.3 in /usr/local/lib/python3.7/dist-packages (from google-api-python-client>=1.6.7->tf-models-official>=2.5.1->object-detection==0.1) (0.0.4)\n",
            "Requirement already satisfied: google-auth>=1.16.0 in /usr/local/lib/python3.7/dist-packages (from google-api-python-client>=1.6.7->tf-models-official>=2.5.1->object-detection==0.1) (1.35.0)\n",
            "Requirement already satisfied: uritemplate<4dev,>=3.0.0 in /usr/local/lib/python3.7/dist-packages (from google-api-python-client>=1.6.7->tf-models-official>=2.5.1->object-detection==0.1) (3.0.1)\n",
            "Requirement already satisfied: pytz in /usr/local/lib/python3.7/dist-packages (from google-api-core<2dev,>=1.21.0->google-api-python-client>=1.6.7->tf-models-official>=2.5.1->object-detection==0.1) (2018.9)\n",
            "Requirement already satisfied: protobuf>=3.12.0 in /usr/local/lib/python3.7/dist-packages (from google-api-core<2dev,>=1.21.0->google-api-python-client>=1.6.7->tf-models-official>=2.5.1->object-detection==0.1) (3.17.3)\n",
            "Requirement already satisfied: setuptools>=40.3.0 in /usr/local/lib/python3.7/dist-packages (from google-api-core<2dev,>=1.21.0->google-api-python-client>=1.6.7->tf-models-official>=2.5.1->object-detection==0.1) (57.4.0)\n",
            "Requirement already satisfied: packaging>=14.3 in /usr/local/lib/python3.7/dist-packages (from google-api-core<2dev,>=1.21.0->google-api-python-client>=1.6.7->tf-models-official>=2.5.1->object-detection==0.1) (21.0)\n",
            "Requirement already satisfied: requests<3.0.0dev,>=2.18.0 in /usr/local/lib/python3.7/dist-packages (from google-api-core<2dev,>=1.21.0->google-api-python-client>=1.6.7->tf-models-official>=2.5.1->object-detection==0.1) (2.23.0)\n",
            "Requirement already satisfied: googleapis-common-protos<2.0dev,>=1.6.0 in /usr/local/lib/python3.7/dist-packages (from google-api-core<2dev,>=1.21.0->google-api-python-client>=1.6.7->tf-models-official>=2.5.1->object-detection==0.1) (1.53.0)\n",
            "Requirement already satisfied: cachetools<5.0,>=2.0.0 in /usr/local/lib/python3.7/dist-packages (from google-auth>=1.16.0->google-api-python-client>=1.6.7->tf-models-official>=2.5.1->object-detection==0.1) (4.2.2)\n",
            "Requirement already satisfied: rsa<5,>=3.1.4 in /usr/local/lib/python3.7/dist-packages (from google-auth>=1.16.0->google-api-python-client>=1.6.7->tf-models-official>=2.5.1->object-detection==0.1) (4.7.2)\n",
            "Requirement already satisfied: pyasn1-modules>=0.2.1 in /usr/local/lib/python3.7/dist-packages (from google-auth>=1.16.0->google-api-python-client>=1.6.7->tf-models-official>=2.5.1->object-detection==0.1) (0.2.8)\n",
            "Requirement already satisfied: urllib3 in /usr/local/lib/python3.7/dist-packages (from kaggle>=1.3.9->tf-models-official>=2.5.1->object-detection==0.1) (1.24.3)\n",
            "Requirement already satisfied: python-slugify in /usr/local/lib/python3.7/dist-packages (from kaggle>=1.3.9->tf-models-official>=2.5.1->object-detection==0.1) (5.0.2)\n",
            "Requirement already satisfied: certifi in /usr/local/lib/python3.7/dist-packages (from kaggle>=1.3.9->tf-models-official>=2.5.1->object-detection==0.1) (2021.5.30)\n",
            "Requirement already satisfied: python-dateutil in /usr/local/lib/python3.7/dist-packages (from kaggle>=1.3.9->tf-models-official>=2.5.1->object-detection==0.1) (2.8.2)\n",
            "Requirement already satisfied: tqdm in /usr/local/lib/python3.7/dist-packages (from kaggle>=1.3.9->tf-models-official>=2.5.1->object-detection==0.1) (4.62.2)\n",
            "Requirement already satisfied: pyparsing>=2.0.2 in /usr/local/lib/python3.7/dist-packages (from packaging>=14.3->google-api-core<2dev,>=1.21.0->google-api-python-client>=1.6.7->tf-models-official>=2.5.1->object-detection==0.1) (2.4.7)\n",
            "Requirement already satisfied: pyasn1<0.5.0,>=0.4.6 in /usr/local/lib/python3.7/dist-packages (from pyasn1-modules>=0.2.1->google-auth>=1.16.0->google-api-python-client>=1.6.7->tf-models-official>=2.5.1->object-detection==0.1) (0.4.8)\n",
            "Requirement already satisfied: idna<3,>=2.5 in /usr/local/lib/python3.7/dist-packages (from requests<3.0.0dev,>=2.18.0->google-api-core<2dev,>=1.21.0->google-api-python-client>=1.6.7->tf-models-official>=2.5.1->object-detection==0.1) (2.10)\n",
            "Requirement already satisfied: chardet<4,>=3.0.2 in /usr/local/lib/python3.7/dist-packages (from requests<3.0.0dev,>=2.18.0->google-api-core<2dev,>=1.21.0->google-api-python-client>=1.6.7->tf-models-official>=2.5.1->object-detection==0.1) (3.0.4)\n",
            "Requirement already satisfied: h5py~=3.1.0 in /usr/local/lib/python3.7/dist-packages (from tensorflow>=2.5.0->tf-models-official>=2.5.1->object-detection==0.1) (3.1.0)\n",
            "Requirement already satisfied: clang~=5.0 in /usr/local/lib/python3.7/dist-packages (from tensorflow>=2.5.0->tf-models-official>=2.5.1->object-detection==0.1) (5.0)\n",
            "Requirement already satisfied: astunparse~=1.6.3 in /usr/local/lib/python3.7/dist-packages (from tensorflow>=2.5.0->tf-models-official>=2.5.1->object-detection==0.1) (1.6.3)\n",
            "Requirement already satisfied: wheel~=0.35 in /usr/local/lib/python3.7/dist-packages (from tensorflow>=2.5.0->tf-models-official>=2.5.1->object-detection==0.1) (0.37.0)\n",
            "Requirement already satisfied: flatbuffers~=1.12.0 in /usr/local/lib/python3.7/dist-packages (from tensorflow>=2.5.0->tf-models-official>=2.5.1->object-detection==0.1) (1.12)\n",
            "Requirement already satisfied: keras~=2.6 in /usr/local/lib/python3.7/dist-packages (from tensorflow>=2.5.0->tf-models-official>=2.5.1->object-detection==0.1) (2.6.0)\n",
            "Requirement already satisfied: opt-einsum~=3.3.0 in /usr/local/lib/python3.7/dist-packages (from tensorflow>=2.5.0->tf-models-official>=2.5.1->object-detection==0.1) (3.3.0)\n",
            "Requirement already satisfied: termcolor~=1.1.0 in /usr/local/lib/python3.7/dist-packages (from tensorflow>=2.5.0->tf-models-official>=2.5.1->object-detection==0.1) (1.1.0)\n",
            "Requirement already satisfied: tensorboard~=2.6 in /usr/local/lib/python3.7/dist-packages (from tensorflow>=2.5.0->tf-models-official>=2.5.1->object-detection==0.1) (2.6.0)\n",
            "Requirement already satisfied: absl-py~=0.10 in /usr/local/lib/python3.7/dist-packages (from tensorflow>=2.5.0->tf-models-official>=2.5.1->object-detection==0.1) (0.12.0)\n",
            "Requirement already satisfied: wrapt~=1.12.1 in /usr/local/lib/python3.7/dist-packages (from tensorflow>=2.5.0->tf-models-official>=2.5.1->object-detection==0.1) (1.12.1)\n",
            "Requirement already satisfied: tensorflow-estimator~=2.6 in /usr/local/lib/python3.7/dist-packages (from tensorflow>=2.5.0->tf-models-official>=2.5.1->object-detection==0.1) (2.6.0)\n",
            "Requirement already satisfied: typing-extensions~=3.7.4 in /usr/local/lib/python3.7/dist-packages (from tensorflow>=2.5.0->tf-models-official>=2.5.1->object-detection==0.1) (3.7.4.3)\n",
            "Requirement already satisfied: google-pasta~=0.2 in /usr/local/lib/python3.7/dist-packages (from tensorflow>=2.5.0->tf-models-official>=2.5.1->object-detection==0.1) (0.2.0)\n",
            "Requirement already satisfied: grpcio<2.0,>=1.37.0 in /usr/local/lib/python3.7/dist-packages (from tensorflow>=2.5.0->tf-models-official>=2.5.1->object-detection==0.1) (1.40.0)\n",
            "Requirement already satisfied: keras-preprocessing~=1.1.2 in /usr/local/lib/python3.7/dist-packages (from tensorflow>=2.5.0->tf-models-official>=2.5.1->object-detection==0.1) (1.1.2)\n",
            "Requirement already satisfied: gast==0.4.0 in /usr/local/lib/python3.7/dist-packages (from tensorflow>=2.5.0->tf-models-official>=2.5.1->object-detection==0.1) (0.4.0)\n",
            "Requirement already satisfied: cached-property in /usr/local/lib/python3.7/dist-packages (from h5py~=3.1.0->tensorflow>=2.5.0->tf-models-official>=2.5.1->object-detection==0.1) (1.5.2)\n",
            "Requirement already satisfied: google-auth-oauthlib<0.5,>=0.4.1 in /usr/local/lib/python3.7/dist-packages (from tensorboard~=2.6->tensorflow>=2.5.0->tf-models-official>=2.5.1->object-detection==0.1) (0.4.6)\n",
            "Requirement already satisfied: tensorboard-data-server<0.7.0,>=0.6.0 in /usr/local/lib/python3.7/dist-packages (from tensorboard~=2.6->tensorflow>=2.5.0->tf-models-official>=2.5.1->object-detection==0.1) (0.6.1)\n",
            "Requirement already satisfied: tensorboard-plugin-wit>=1.6.0 in /usr/local/lib/python3.7/dist-packages (from tensorboard~=2.6->tensorflow>=2.5.0->tf-models-official>=2.5.1->object-detection==0.1) (1.8.0)\n",
            "Requirement already satisfied: werkzeug>=0.11.15 in /usr/local/lib/python3.7/dist-packages (from tensorboard~=2.6->tensorflow>=2.5.0->tf-models-official>=2.5.1->object-detection==0.1) (1.0.1)\n",
            "Requirement already satisfied: markdown>=2.6.8 in /usr/local/lib/python3.7/dist-packages (from tensorboard~=2.6->tensorflow>=2.5.0->tf-models-official>=2.5.1->object-detection==0.1) (3.3.4)\n",
            "Requirement already satisfied: requests-oauthlib>=0.7.0 in /usr/local/lib/python3.7/dist-packages (from google-auth-oauthlib<0.5,>=0.4.1->tensorboard~=2.6->tensorflow>=2.5.0->tf-models-official>=2.5.1->object-detection==0.1) (1.3.0)\n",
            "Requirement already satisfied: importlib-metadata in /usr/local/lib/python3.7/dist-packages (from markdown>=2.6.8->tensorboard~=2.6->tensorflow>=2.5.0->tf-models-official>=2.5.1->object-detection==0.1) (4.8.1)\n",
            "Requirement already satisfied: oauthlib>=3.0.0 in /usr/local/lib/python3.7/dist-packages (from requests-oauthlib>=0.7.0->google-auth-oauthlib<0.5,>=0.4.1->tensorboard~=2.6->tensorflow>=2.5.0->tf-models-official>=2.5.1->object-detection==0.1) (3.1.1)\n",
            "Requirement already satisfied: dm-tree~=0.1.1 in /usr/local/lib/python3.7/dist-packages (from tensorflow-model-optimization>=0.4.1->tf-models-official>=2.5.1->object-detection==0.1) (0.1.6)\n",
            "Collecting hdfs<3.0.0,>=2.1.0\n",
            "  Downloading hdfs-2.6.0-py3-none-any.whl (33 kB)\n",
            "Requirement already satisfied: pymongo<4.0.0,>=3.8.0 in /usr/local/lib/python3.7/dist-packages (from apache-beam->object-detection==0.1) (3.12.0)\n",
            "Requirement already satisfied: pyarrow<5.0.0,>=0.15.1 in /usr/local/lib/python3.7/dist-packages (from apache-beam->object-detection==0.1) (3.0.0)\n",
            "Collecting requests<3.0.0dev,>=2.18.0\n",
            "  Downloading requests-2.26.0-py2.py3-none-any.whl (62 kB)\n",
            "Collecting fastavro<2,>=0.21.4\n",
            "  Downloading fastavro-1.4.5-cp37-cp37m-manylinux_2_17_x86_64.manylinux2014_x86_64.whl (2.3 MB)\n",
            "Requirement already satisfied: pydot<2,>=1.2.0 in /usr/local/lib/python3.7/dist-packages (from apache-beam->object-detection==0.1) (1.3.0)\n",
            "Collecting future<1.0.0,>=0.18.2\n",
            "  Downloading future-0.18.2.tar.gz (829 kB)\n",
            "Collecting dill<0.3.2,>=0.3.1.1\n",
            "  Downloading dill-0.3.1.1.tar.gz (151 kB)\n",
            "Collecting avro-python3\n",
            "  Downloading avro-python3-1.9.2.1.tar.gz (37 kB)\n",
            "Collecting orjson<4.0\n",
            "  Downloading orjson-3.6.3-cp37-cp37m-manylinux_2_24_x86_64.whl (234 kB)\n",
            "Requirement already satisfied: crcmod<2.0,>=1.7 in /usr/local/lib/python3.7/dist-packages (from apache-beam->object-detection==0.1) (1.7)\n",
            "Requirement already satisfied: docopt in /usr/local/lib/python3.7/dist-packages (from hdfs<3.0.0,>=2.1.0->apache-beam->object-detection==0.1) (0.6.2)\n",
            "Requirement already satisfied: charset-normalizer~=2.0.0 in /usr/local/lib/python3.7/dist-packages (from requests<3.0.0dev,>=2.18.0->google-api-core<2dev,>=1.21.0->google-api-python-client>=1.6.7->tf-models-official>=2.5.1->object-detection==0.1) (2.0.5)\n",
            "Requirement already satisfied: zipp>=0.5 in /usr/local/lib/python3.7/dist-packages (from importlib-metadata->markdown>=2.6.8->tensorboard~=2.6->tensorflow>=2.5.0->tf-models-official>=2.5.1->object-detection==0.1) (3.5.0)\n",
            "Requirement already satisfied: opencv-python>=4.1.0.25 in /usr/local/lib/python3.7/dist-packages (from lvis->object-detection==0.1) (4.1.2.30)\n",
            "Requirement already satisfied: kiwisolver>=1.1.0 in /usr/local/lib/python3.7/dist-packages (from lvis->object-detection==0.1) (1.3.2)\n",
            "Requirement already satisfied: cycler>=0.10.0 in /usr/local/lib/python3.7/dist-packages (from lvis->object-detection==0.1) (0.10.0)\n",
            "Requirement already satisfied: text-unidecode>=1.3 in /usr/local/lib/python3.7/dist-packages (from python-slugify->kaggle>=1.3.9->tf-models-official>=2.5.1->object-detection==0.1) (1.3)\n",
            "Requirement already satisfied: tabulate>=0.8.9 in /usr/local/lib/python3.7/dist-packages (from sacrebleu->tf-models-official>=2.5.1->object-detection==0.1) (0.8.9)\n",
            "Requirement already satisfied: regex in /usr/local/lib/python3.7/dist-packages (from sacrebleu->tf-models-official>=2.5.1->object-detection==0.1) (2019.12.20)\n",
            "Collecting colorama\n",
            "  Downloading colorama-0.4.4-py2.py3-none-any.whl (16 kB)\n",
            "Collecting portalocker\n",
            "  Downloading portalocker-2.3.2-py2.py3-none-any.whl (15 kB)\n",
            "Requirement already satisfied: scikit-learn>=0.21.3 in /usr/local/lib/python3.7/dist-packages (from seqeval->tf-models-official>=2.5.1->object-detection==0.1) (0.22.2.post1)\n",
            "Requirement already satisfied: joblib>=0.11 in /usr/local/lib/python3.7/dist-packages (from scikit-learn>=0.21.3->seqeval->tf-models-official>=2.5.1->object-detection==0.1) (1.0.1)\n",
            "Requirement already satisfied: typeguard>=2.7 in /usr/local/lib/python3.7/dist-packages (from tensorflow-addons->tf-models-official>=2.5.1->object-detection==0.1) (2.7.1)\n",
            "Requirement already satisfied: attrs>=18.1.0 in /usr/local/lib/python3.7/dist-packages (from tensorflow-datasets->tf-models-official>=2.5.1->object-detection==0.1) (21.2.0)\n",
            "Requirement already satisfied: tensorflow-metadata in /usr/local/lib/python3.7/dist-packages (from tensorflow-datasets->tf-models-official>=2.5.1->object-detection==0.1) (1.2.0)\n",
            "Requirement already satisfied: promise in /usr/local/lib/python3.7/dist-packages (from tensorflow-datasets->tf-models-official>=2.5.1->object-detection==0.1) (2.3)\n",
            "Requirement already satisfied: importlib-resources in /usr/local/lib/python3.7/dist-packages (from tensorflow-datasets->tf-models-official>=2.5.1->object-detection==0.1) (5.2.2)\n",
            "Building wheels for collected packages: object-detection, py-cpuinfo, avro-python3, dill, future, seqeval\n",
            "  Building wheel for object-detection (setup.py): started\n",
            "  Building wheel for object-detection (setup.py): finished with status 'done'\n",
            "  Created wheel for object-detection: filename=object_detection-0.1-py3-none-any.whl size=1665514 sha256=368d2eed307a97375b0e2a41ab0cd67b28ab88bf22659d86a7f7df339612ae30\n",
            "  Stored in directory: /tmp/pip-ephem-wheel-cache-14426vys/wheels/fa/a4/d2/e9a5057e414fd46c8e543d2706cd836d64e1fcd9eccceb2329\n",
            "  Building wheel for py-cpuinfo (setup.py): started\n",
            "  Building wheel for py-cpuinfo (setup.py): finished with status 'done'\n",
            "  Created wheel for py-cpuinfo: filename=py_cpuinfo-8.0.0-py3-none-any.whl size=22258 sha256=e1ad7f33b4f6834fb810589669d607987ee2448ec1dae8b6684a51170deec7f8\n",
            "  Stored in directory: /root/.cache/pip/wheels/d2/f1/1f/041add21dc9c4220157f1bd2bd6afe1f1a49524c3396b94401\n",
            "  Building wheel for avro-python3 (setup.py): started\n",
            "  Building wheel for avro-python3 (setup.py): finished with status 'done'\n",
            "  Created wheel for avro-python3: filename=avro_python3-1.9.2.1-py3-none-any.whl size=43512 sha256=7fc5fafda0993b71c443609052a52431d432a61b240c0536c223870156bd5046\n",
            "  Stored in directory: /root/.cache/pip/wheels/bc/49/5f/fdb5b9d85055c478213e0158ac122b596816149a02d82e0ab1\n",
            "  Building wheel for dill (setup.py): started\n",
            "  Building wheel for dill (setup.py): finished with status 'done'\n",
            "  Created wheel for dill: filename=dill-0.3.1.1-py3-none-any.whl size=78546 sha256=1d5c8fb6ef996ca1b386b635c28788c1bae913448912c4ce87ecb9ccb50bf16c\n",
            "  Stored in directory: /root/.cache/pip/wheels/a4/61/fd/c57e374e580aa78a45ed78d5859b3a44436af17e22ca53284f\n",
            "  Building wheel for future (setup.py): started\n",
            "  Building wheel for future (setup.py): finished with status 'done'\n",
            "  Created wheel for future: filename=future-0.18.2-py3-none-any.whl size=491070 sha256=62622ed52b89f8a3c147b50b0a1338b6c1408bb47af9b3a380a1fcf43e54c1d8\n",
            "  Stored in directory: /root/.cache/pip/wheels/56/b0/fe/4410d17b32f1f0c3cf54cdfb2bc04d7b4b8f4ae377e2229ba0\n",
            "  Building wheel for seqeval (setup.py): started\n",
            "  Building wheel for seqeval (setup.py): finished with status 'done'\n",
            "  Created wheel for seqeval: filename=seqeval-1.2.2-py3-none-any.whl size=16181 sha256=711b7683806c308f54ab8150b7bbcd55684fa6203fc15cdba33ad5e862536255\n",
            "  Stored in directory: /root/.cache/pip/wheels/05/96/ee/7cac4e74f3b19e3158dce26a20a1c86b3533c43ec72a549fd7\n",
            "Successfully built object-detection py-cpuinfo avro-python3 dill future seqeval\n",
            "Installing collected packages: requests, portalocker, future, dill, colorama, tf-slim, tensorflow-text, tensorflow-model-optimization, tensorflow-addons, seqeval, sentencepiece, sacrebleu, pyyaml, py-cpuinfo, orjson, opencv-python-headless, hdfs, fastavro, avro-python3, tf-models-official, lvis, apache-beam, object-detection\n",
            "  Attempting uninstall: requests\n",
            "    Found existing installation: requests 2.23.0\n",
            "    Uninstalling requests-2.23.0:\n",
            "      Successfully uninstalled requests-2.23.0\n",
            "  Attempting uninstall: future\n",
            "    Found existing installation: future 0.16.0\n",
            "    Uninstalling future-0.16.0:\n",
            "      Successfully uninstalled future-0.16.0\n",
            "  Attempting uninstall: dill\n",
            "    Found existing installation: dill 0.3.4\n",
            "    Uninstalling dill-0.3.4:\n",
            "      Successfully uninstalled dill-0.3.4\n",
            "  Attempting uninstall: pyyaml\n",
            "    Found existing installation: PyYAML 3.13\n",
            "    Uninstalling PyYAML-3.13:\n",
            "      Successfully uninstalled PyYAML-3.13\n",
            "Successfully installed apache-beam-2.32.0 avro-python3-1.9.2.1 colorama-0.4.4 dill-0.3.1.1 fastavro-1.4.5 future-0.18.2 hdfs-2.6.0 lvis-0.5.3 object-detection-0.1 opencv-python-headless-4.5.3.56 orjson-3.6.3 portalocker-2.3.2 py-cpuinfo-8.0.0 pyyaml-5.4.1 requests-2.26.0 sacrebleu-2.0.0 sentencepiece-0.1.96 seqeval-1.2.2 tensorflow-addons-0.14.0 tensorflow-model-optimization-0.6.0 tensorflow-text-2.6.0 tf-models-official-2.6.0 tf-slim-1.1.0\n"
          ]
        },
        {
          "output_type": "stream",
          "name": "stderr",
          "text": [
            "\n",
            "WARNING: apt does not have a stable CLI interface. Use with caution in scripts.\n",
            "\n",
            "  DEPRECATION: A future pip version will change local packages to be built in-place without first copying to a temporary directory. We recommend you use --use-feature=in-tree-build to test your packages with this new behavior before it becomes the default.\n",
            "   pip 21.3 will remove support for this functionality. You can find discussion regarding this at https://github.com/pypa/pip/issues/7555.\n",
            "ERROR: pip's dependency resolver does not currently take into account all the packages that are installed. This behaviour is the source of the following dependency conflicts.\n",
            "multiprocess 0.70.12.2 requires dill>=0.3.4, but you have dill 0.3.1.1 which is incompatible.\n",
            "google-colab 1.0.0 requires requests~=2.23.0, but you have requests 2.26.0 which is incompatible.\n",
            "datascience 0.10.6 requires folium==0.2.1, but you have folium 0.8.3 which is incompatible.\n"
          ]
        }
      ]
    },
    {
      "cell_type": "code",
      "metadata": {
        "colab": {
          "base_uri": "https://localhost:8080/"
        },
        "id": "Cgdh09JJNjZr",
        "outputId": "d270d920-b85f-48b8-d2bc-065e927f00e7"
      },
      "source": [
        "%%bash\n",
        "git clone https://github.com/cocodataset/cocoapi.git\n",
        "cd cocoapi/PythonAPI\n",
        "make\n",
        "cp -r pycocotools /content/models/research/"
      ],
      "execution_count": 5,
      "outputs": [
        {
          "output_type": "stream",
          "name": "stdout",
          "text": [
            "python setup.py build_ext --inplace\n",
            "running build_ext\n",
            "cythoning pycocotools/_mask.pyx to pycocotools/_mask.c\n",
            "building 'pycocotools._mask' extension\n",
            "creating build\n",
            "creating build/common\n",
            "creating build/temp.linux-x86_64-3.7\n",
            "creating build/temp.linux-x86_64-3.7/pycocotools\n",
            "x86_64-linux-gnu-gcc -pthread -Wno-unused-result -Wsign-compare -DNDEBUG -g -fwrapv -O2 -Wall -g -fdebug-prefix-map=/build/python3.7-Y7dWVB/python3.7-3.7.12=. -fstack-protector-strong -Wformat -Werror=format-security -g -fdebug-prefix-map=/build/python3.7-Y7dWVB/python3.7-3.7.12=. -fstack-protector-strong -Wformat -Werror=format-security -Wdate-time -D_FORTIFY_SOURCE=2 -fPIC -I/usr/local/lib/python3.7/dist-packages/numpy/core/include -I../common -I/usr/include/python3.7m -c ../common/maskApi.c -o build/temp.linux-x86_64-3.7/../common/maskApi.o -Wno-cpp -Wno-unused-function -std=c99\n",
            "x86_64-linux-gnu-gcc -pthread -Wno-unused-result -Wsign-compare -DNDEBUG -g -fwrapv -O2 -Wall -g -fdebug-prefix-map=/build/python3.7-Y7dWVB/python3.7-3.7.12=. -fstack-protector-strong -Wformat -Werror=format-security -g -fdebug-prefix-map=/build/python3.7-Y7dWVB/python3.7-3.7.12=. -fstack-protector-strong -Wformat -Werror=format-security -Wdate-time -D_FORTIFY_SOURCE=2 -fPIC -I/usr/local/lib/python3.7/dist-packages/numpy/core/include -I../common -I/usr/include/python3.7m -c pycocotools/_mask.c -o build/temp.linux-x86_64-3.7/pycocotools/_mask.o -Wno-cpp -Wno-unused-function -std=c99\n",
            "creating build/lib.linux-x86_64-3.7\n",
            "creating build/lib.linux-x86_64-3.7/pycocotools\n",
            "x86_64-linux-gnu-gcc -pthread -shared -Wl,-O1 -Wl,-Bsymbolic-functions -Wl,-Bsymbolic-functions -Wl,-z,relro -Wl,-Bsymbolic-functions -Wl,-z,relro -g -fdebug-prefix-map=/build/python3.7-Y7dWVB/python3.7-3.7.12=. -fstack-protector-strong -Wformat -Werror=format-security -Wdate-time -D_FORTIFY_SOURCE=2 build/temp.linux-x86_64-3.7/../common/maskApi.o build/temp.linux-x86_64-3.7/pycocotools/_mask.o -o build/lib.linux-x86_64-3.7/pycocotools/_mask.cpython-37m-x86_64-linux-gnu.so\n",
            "copying build/lib.linux-x86_64-3.7/pycocotools/_mask.cpython-37m-x86_64-linux-gnu.so -> pycocotools\n",
            "rm -rf build\n"
          ]
        },
        {
          "output_type": "stream",
          "name": "stderr",
          "text": [
            "Cloning into 'cocoapi'...\n",
            "../common/maskApi.c: In function ‘rleDecode’:\n",
            "../common/maskApi.c:46:7: warning: this ‘for’ clause does not guard... [-Wmisleading-indentation]\n",
            "       for( k=0; k<R[i].cnts[j]; k++ ) *(M++)=v; v=!v; }}\n",
            "       ^~~\n",
            "../common/maskApi.c:46:49: note: ...this statement, but the latter is misleadingly indented as if it were guarded by the ‘for’\n",
            "       for( k=0; k<R[i].cnts[j]; k++ ) *(M++)=v; v=!v; }}\n",
            "                                                 ^\n",
            "../common/maskApi.c: In function ‘rleFrPoly’:\n",
            "../common/maskApi.c:166:3: warning: this ‘for’ clause does not guard... [-Wmisleading-indentation]\n",
            "   for(j=0; j<k; j++) x[j]=(int)(scale*xy[j*2+0]+.5); x[k]=x[0];\n",
            "   ^~~\n",
            "../common/maskApi.c:166:54: note: ...this statement, but the latter is misleadingly indented as if it were guarded by the ‘for’\n",
            "   for(j=0; j<k; j++) x[j]=(int)(scale*xy[j*2+0]+.5); x[k]=x[0];\n",
            "                                                      ^\n",
            "../common/maskApi.c:167:3: warning: this ‘for’ clause does not guard... [-Wmisleading-indentation]\n",
            "   for(j=0; j<k; j++) y[j]=(int)(scale*xy[j*2+1]+.5); y[k]=y[0];\n",
            "   ^~~\n",
            "../common/maskApi.c:167:54: note: ...this statement, but the latter is misleadingly indented as if it were guarded by the ‘for’\n",
            "   for(j=0; j<k; j++) y[j]=(int)(scale*xy[j*2+1]+.5); y[k]=y[0];\n",
            "                                                      ^\n",
            "../common/maskApi.c: In function ‘rleToString’:\n",
            "../common/maskApi.c:212:7: warning: this ‘if’ clause does not guard... [-Wmisleading-indentation]\n",
            "       if(more) c |= 0x20; c+=48; s[p++]=c;\n",
            "       ^~\n",
            "../common/maskApi.c:212:27: note: ...this statement, but the latter is misleadingly indented as if it were guarded by the ‘if’\n",
            "       if(more) c |= 0x20; c+=48; s[p++]=c;\n",
            "                           ^\n",
            "../common/maskApi.c: In function ‘rleFrString’:\n",
            "../common/maskApi.c:220:3: warning: this ‘while’ clause does not guard... [-Wmisleading-indentation]\n",
            "   while( s[m] ) m++; cnts=malloc(sizeof(uint)*m); m=0;\n",
            "   ^~~~~\n",
            "../common/maskApi.c:220:22: note: ...this statement, but the latter is misleadingly indented as if it were guarded by the ‘while’\n",
            "   while( s[m] ) m++; cnts=malloc(sizeof(uint)*m); m=0;\n",
            "                      ^~~~\n",
            "../common/maskApi.c:228:5: warning: this ‘if’ clause does not guard... [-Wmisleading-indentation]\n",
            "     if(m>2) x+=(long) cnts[m-2]; cnts[m++]=(uint) x;\n",
            "     ^~\n",
            "../common/maskApi.c:228:34: note: ...this statement, but the latter is misleadingly indented as if it were guarded by the ‘if’\n",
            "     if(m>2) x+=(long) cnts[m-2]; cnts[m++]=(uint) x;\n",
            "                                  ^~~~\n",
            "../common/maskApi.c: In function ‘rleToBbox’:\n",
            "../common/maskApi.c:141:31: warning: ‘xp’ may be used uninitialized in this function [-Wmaybe-uninitialized]\n",
            "       if(j%2==0) xp=x; else if(xp<x) { ys=0; ye=h-1; }\n",
            "                               ^\n",
            "/usr/local/lib/python3.7/dist-packages/Cython/Compiler/Main.py:369: FutureWarning: Cython directive 'language_level' not set, using 2 for now (Py2). This will change in a later release! File: /content/cocoapi/PythonAPI/pycocotools/_mask.pyx\n",
            "  tree = Parsing.p_module(s, pxd, full_module_name)\n"
          ]
        }
      ]
    },
    {
      "cell_type": "code",
      "metadata": {
        "colab": {
          "base_uri": "https://localhost:8080/"
        },
        "id": "4Oc3RXuB8WIe",
        "outputId": "f0b4c6c4-ec8c-40cd-ab11-0bb53aaff41c"
      },
      "source": [
        "from google.colab import drive\n",
        "drive.mount('/content/drive')"
      ],
      "execution_count": 6,
      "outputs": [
        {
          "output_type": "stream",
          "name": "stdout",
          "text": [
            "Mounted at /content/drive\n"
          ]
        }
      ]
    },
    {
      "cell_type": "code",
      "metadata": {
        "colab": {
          "base_uri": "https://localhost:8080/"
        },
        "id": "vAkSTrER2Bxl",
        "outputId": "642c6678-6529-4e82-9c13-a40381182a9b"
      },
      "source": [
        "%ls"
      ],
      "execution_count": 7,
      "outputs": [
        {
          "output_type": "stream",
          "name": "stdout",
          "text": [
            "\u001b[0m\u001b[01;34mcocoapi\u001b[0m/  \u001b[01;34mdrive\u001b[0m/  \u001b[01;34mmodels\u001b[0m/  \u001b[01;34msample_data\u001b[0m/\n"
          ]
        }
      ]
    },
    {
      "cell_type": "code",
      "metadata": {
        "id": "eTOUakGxzZeJ"
      },
      "source": [
        "!mkdir workspace\n",
        "!mkdir scripts"
      ],
      "execution_count": 8,
      "outputs": []
    },
    {
      "cell_type": "code",
      "metadata": {
        "id": "X-VbwtZiz9Zq"
      },
      "source": [
        "!mkdir workspace/training_demo"
      ],
      "execution_count": 9,
      "outputs": []
    },
    {
      "cell_type": "code",
      "metadata": {
        "id": "Gp6JXJqu0HSG"
      },
      "source": [
        "!mkdir workspace/training_demo/annotations\n",
        "!mkdir workspace/training_demo/images\n",
        "!mkdir workspace/training_demo/models\n",
        "!mkdir workspace/training_demo/pre-trained-models\n",
        "!mkdir scripts/preprocessing"
      ],
      "execution_count": 10,
      "outputs": []
    },
    {
      "cell_type": "code",
      "metadata": {
        "id": "qLffaQZ0VIfj"
      },
      "source": [
        "from object_detection.utils import label_map_util\n",
        "from object_detection.utils import visualization_utils as viz_utils\n",
        "from object_detection.utils import ops as utils_ops"
      ],
      "execution_count": 11,
      "outputs": []
    },
    {
      "cell_type": "code",
      "metadata": {
        "id": "LoJSbnxdy0L9"
      },
      "source": [
        "%cp -r /content/drive/MyDrive/Colab_Notebooks/CV/L5/test /content/workspace/training_demo/images"
      ],
      "execution_count": 12,
      "outputs": []
    },
    {
      "cell_type": "code",
      "metadata": {
        "id": "NiETfUli5f9n"
      },
      "source": [
        "%cp -r /content/drive/MyDrive/Colab_Notebooks/CV/L5/train /content/workspace/training_demo/images"
      ],
      "execution_count": 13,
      "outputs": []
    },
    {
      "cell_type": "code",
      "metadata": {
        "id": "Grv9KBES5mN6"
      },
      "source": [
        "%cp -r /content/drive/MyDrive/Colab_Notebooks/CV/L5/generate_tfrecord.py /content/scripts/preprocessing"
      ],
      "execution_count": 14,
      "outputs": []
    },
    {
      "cell_type": "code",
      "metadata": {
        "id": "WT03T1Se7Bsb"
      },
      "source": [
        "with open('/content/workspace/training_demo/annotations/label_map.pbtxt', 'w') as f:\n",
        "    f.write(\"item { id: 1 \\n name: 'ship'}\")"
      ],
      "execution_count": 15,
      "outputs": []
    },
    {
      "cell_type": "markdown",
      "metadata": {
        "id": "wOeiWBVS6t0G"
      },
      "source": [
        ""
      ]
    },
    {
      "cell_type": "code",
      "metadata": {
        "colab": {
          "base_uri": "https://localhost:8080/"
        },
        "id": "vC4vhA84_H-y",
        "outputId": "5978d3b2-075b-4617-c82f-6ab3ff70ab66"
      },
      "source": [
        "%cd scripts/preprocessing/\n",
        "%ls"
      ],
      "execution_count": 16,
      "outputs": [
        {
          "output_type": "stream",
          "name": "stdout",
          "text": [
            "/content/scripts/preprocessing\n",
            "generate_tfrecord.py\n"
          ]
        }
      ]
    },
    {
      "cell_type": "code",
      "metadata": {
        "colab": {
          "base_uri": "https://localhost:8080/"
        },
        "id": "TGfSleun_0y2",
        "outputId": "0f088e2f-614f-4907-94db-fdb38deb1329"
      },
      "source": [
        "!python generate_tfrecord.py -x /content/workspace/training_demo/images/train -l /content/workspace/training_demo/annotations/label_map.pbtxt -o /content/workspace/training_demo/annotations/train.record"
      ],
      "execution_count": 17,
      "outputs": [
        {
          "output_type": "stream",
          "name": "stdout",
          "text": [
            "Successfully created the TFRecord file: /content/workspace/training_demo/annotations/train.record\n"
          ]
        }
      ]
    },
    {
      "cell_type": "code",
      "metadata": {
        "colab": {
          "base_uri": "https://localhost:8080/"
        },
        "id": "PMWjx9J1kv8P",
        "outputId": "7385088c-936c-4783-89e9-547526cda465"
      },
      "source": [
        "!python generate_tfrecord.py -x /content/workspace/training_demo/images/test -l /content/workspace/training_demo/annotations/label_map.pbtxt -o /content/workspace/training_demo/annotations/test.record"
      ],
      "execution_count": 18,
      "outputs": [
        {
          "output_type": "stream",
          "name": "stdout",
          "text": [
            "Successfully created the TFRecord file: /content/workspace/training_demo/annotations/test.record\n"
          ]
        }
      ]
    },
    {
      "cell_type": "code",
      "metadata": {
        "colab": {
          "base_uri": "https://localhost:8080/"
        },
        "id": "39Ff14B0JBW8",
        "outputId": "5ffd208b-8844-4420-c4c4-b22e1d158a80"
      },
      "source": [
        "%ls"
      ],
      "execution_count": null,
      "outputs": [
        {
          "output_type": "stream",
          "name": "stdout",
          "text": [
            "generate_tfrecord.py\n"
          ]
        }
      ]
    },
    {
      "cell_type": "code",
      "metadata": {
        "id": "AXOk-SUUw0Xz"
      },
      "source": [
        "!mkdir /content/workspace/training_demo/models/my_ssd_mobilenet_v2_fpnlite"
      ],
      "execution_count": 19,
      "outputs": []
    },
    {
      "cell_type": "code",
      "metadata": {
        "id": "uwxew8Dun4VI"
      },
      "source": [
        ""
      ],
      "execution_count": null,
      "outputs": []
    },
    {
      "cell_type": "code",
      "metadata": {
        "id": "QwhHqJqjxPb3"
      },
      "source": [
        "%cp -r /content/drive/MyDrive/Colab_Notebooks/CV/L5/ssd_mobilenet_v2_fpnlite_640x640_coco17_tpu-8 /content/workspace/training_demo/pre-trained-models/"
      ],
      "execution_count": 20,
      "outputs": []
    },
    {
      "cell_type": "code",
      "metadata": {
        "id": "MAbSYKJGfl5t"
      },
      "source": [
        "# %cp -r /content/drive/MyDrive/Colab_Notebooks/CV/L5/ssd_mobilenet_v2_fpnlite_640x640_coco17_tpu-8 /content/workspace/training_demo/models/my_ssd_mobilenet_v2_fpnlite"
      ],
      "execution_count": null,
      "outputs": []
    },
    {
      "cell_type": "code",
      "metadata": {
        "id": "EvIHwIgLU8TU"
      },
      "source": [
        "%cp /content/drive/MyDrive/Colab_Notebooks/CV/L5/ssd_mobilenet_v2_fpnlite_640x640_coco17_tpu-8/pipeline.config /content/workspace/training_demo/models/my_ssd_mobilenet_v2_fpnlite"
      ],
      "execution_count": 21,
      "outputs": []
    },
    {
      "cell_type": "code",
      "metadata": {
        "id": "Qp-h-xT_UunN"
      },
      "source": [
        "%cp /content/models/research/object_detection/model_main_tf2.py /content/workspace/training_demo"
      ],
      "execution_count": 22,
      "outputs": []
    },
    {
      "cell_type": "code",
      "metadata": {
        "colab": {
          "base_uri": "https://localhost:8080/"
        },
        "id": "b24Rux0zPruA",
        "outputId": "569c1e20-204f-433c-e3c3-d33c159bf160"
      },
      "source": [
        "%cd ../../workspace/training_demo\n",
        "%ls"
      ],
      "execution_count": 23,
      "outputs": [
        {
          "output_type": "stream",
          "name": "stdout",
          "text": [
            "/content/workspace/training_demo\n",
            "\u001b[0m\u001b[01;34mannotations\u001b[0m/  \u001b[01;34mimages\u001b[0m/  model_main_tf2.py  \u001b[01;34mmodels\u001b[0m/  \u001b[01;34mpre-trained-models\u001b[0m/\n"
          ]
        }
      ]
    },
    {
      "cell_type": "code",
      "metadata": {
        "colab": {
          "base_uri": "https://localhost:8080/"
        },
        "id": "HciIRSL-PK3G",
        "outputId": "da9960da-cc73-4ac9-c86b-12c98a40c53c"
      },
      "source": [
        "!python model_main_tf2.py --model_dir=/models/my_ssd_mobilenet_v2_fpnlite --pipeline_config_path=models/my_ssd_mobilenet_v2_fpnlite/pipeline.config"
      ],
      "execution_count": null,
      "outputs": [
        {
          "output_type": "stream",
          "name": "stdout",
          "text": [
            "2021-09-22 17:51:24.938022: I tensorflow/stream_executor/cuda/cuda_gpu_executor.cc:937] successful NUMA node read from SysFS had negative value (-1), but there must be at least one NUMA node, so returning NUMA node zero\n",
            "2021-09-22 17:51:24.949855: I tensorflow/stream_executor/cuda/cuda_gpu_executor.cc:937] successful NUMA node read from SysFS had negative value (-1), but there must be at least one NUMA node, so returning NUMA node zero\n",
            "2021-09-22 17:51:24.950724: I tensorflow/stream_executor/cuda/cuda_gpu_executor.cc:937] successful NUMA node read from SysFS had negative value (-1), but there must be at least one NUMA node, so returning NUMA node zero\n",
            "2021-09-22 17:51:24.952619: I tensorflow/stream_executor/cuda/cuda_gpu_executor.cc:937] successful NUMA node read from SysFS had negative value (-1), but there must be at least one NUMA node, so returning NUMA node zero\n",
            "2021-09-22 17:51:24.953490: I tensorflow/stream_executor/cuda/cuda_gpu_executor.cc:937] successful NUMA node read from SysFS had negative value (-1), but there must be at least one NUMA node, so returning NUMA node zero\n",
            "2021-09-22 17:51:24.954370: I tensorflow/stream_executor/cuda/cuda_gpu_executor.cc:937] successful NUMA node read from SysFS had negative value (-1), but there must be at least one NUMA node, so returning NUMA node zero\n",
            "2021-09-22 17:51:25.471469: I tensorflow/stream_executor/cuda/cuda_gpu_executor.cc:937] successful NUMA node read from SysFS had negative value (-1), but there must be at least one NUMA node, so returning NUMA node zero\n",
            "2021-09-22 17:51:25.472231: I tensorflow/stream_executor/cuda/cuda_gpu_executor.cc:937] successful NUMA node read from SysFS had negative value (-1), but there must be at least one NUMA node, so returning NUMA node zero\n",
            "2021-09-22 17:51:25.473093: I tensorflow/stream_executor/cuda/cuda_gpu_executor.cc:937] successful NUMA node read from SysFS had negative value (-1), but there must be at least one NUMA node, so returning NUMA node zero\n",
            "2021-09-22 17:51:25.473791: W tensorflow/core/common_runtime/gpu/gpu_bfc_allocator.cc:39] Overriding allow_growth setting because the TF_FORCE_GPU_ALLOW_GROWTH environment variable is set. Original config value was 0.\n",
            "2021-09-22 17:51:25.473860: I tensorflow/core/common_runtime/gpu/gpu_device.cc:1510] Created device /job:localhost/replica:0/task:0/device:GPU:0 with 10819 MB memory:  -> device: 0, name: Tesla K80, pci bus id: 0000:00:04.0, compute capability: 3.7\n",
            "INFO:tensorflow:Using MirroredStrategy with devices ('/job:localhost/replica:0/task:0/device:GPU:0',)\n",
            "I0922 17:51:25.479711 140390469695360 mirrored_strategy.py:369] Using MirroredStrategy with devices ('/job:localhost/replica:0/task:0/device:GPU:0',)\n",
            "INFO:tensorflow:Maybe overwriting train_steps: None\n",
            "I0922 17:51:25.484437 140390469695360 config_util.py:552] Maybe overwriting train_steps: None\n",
            "INFO:tensorflow:Maybe overwriting use_bfloat16: False\n",
            "I0922 17:51:25.484634 140390469695360 config_util.py:552] Maybe overwriting use_bfloat16: False\n",
            "WARNING:tensorflow:From /usr/local/lib/python3.7/dist-packages/object_detection/model_lib_v2.py:558: StrategyBase.experimental_distribute_datasets_from_function (from tensorflow.python.distribute.distribute_lib) is deprecated and will be removed in a future version.\n",
            "Instructions for updating:\n",
            "rename to distribute_datasets_from_function\n",
            "W0922 17:51:25.613765 140390469695360 deprecation.py:345] From /usr/local/lib/python3.7/dist-packages/object_detection/model_lib_v2.py:558: StrategyBase.experimental_distribute_datasets_from_function (from tensorflow.python.distribute.distribute_lib) is deprecated and will be removed in a future version.\n",
            "Instructions for updating:\n",
            "rename to distribute_datasets_from_function\n",
            "INFO:tensorflow:Reading unweighted datasets: ['annotations/train.record']\n",
            "I0922 17:51:25.618021 140390469695360 dataset_builder.py:163] Reading unweighted datasets: ['annotations/train.record']\n",
            "INFO:tensorflow:Reading record datasets for input file: ['annotations/train.record']\n",
            "I0922 17:51:25.618249 140390469695360 dataset_builder.py:80] Reading record datasets for input file: ['annotations/train.record']\n",
            "INFO:tensorflow:Number of filenames to read: 1\n",
            "I0922 17:51:25.618402 140390469695360 dataset_builder.py:81] Number of filenames to read: 1\n",
            "WARNING:tensorflow:num_readers has been reduced to 1 to match input file shards.\n",
            "W0922 17:51:25.618563 140390469695360 dataset_builder.py:88] num_readers has been reduced to 1 to match input file shards.\n",
            "WARNING:tensorflow:From /usr/local/lib/python3.7/dist-packages/object_detection/builders/dataset_builder.py:105: parallel_interleave (from tensorflow.python.data.experimental.ops.interleave_ops) is deprecated and will be removed in a future version.\n",
            "Instructions for updating:\n",
            "Use `tf.data.Dataset.interleave(map_func, cycle_length, block_length, num_parallel_calls=tf.data.AUTOTUNE)` instead. If sloppy execution is desired, use `tf.data.Options.experimental_deterministic`.\n",
            "W0922 17:51:25.621309 140390469695360 deprecation.py:345] From /usr/local/lib/python3.7/dist-packages/object_detection/builders/dataset_builder.py:105: parallel_interleave (from tensorflow.python.data.experimental.ops.interleave_ops) is deprecated and will be removed in a future version.\n",
            "Instructions for updating:\n",
            "Use `tf.data.Dataset.interleave(map_func, cycle_length, block_length, num_parallel_calls=tf.data.AUTOTUNE)` instead. If sloppy execution is desired, use `tf.data.Options.experimental_deterministic`.\n",
            "WARNING:tensorflow:From /usr/local/lib/python3.7/dist-packages/object_detection/builders/dataset_builder.py:237: DatasetV1.map_with_legacy_function (from tensorflow.python.data.ops.dataset_ops) is deprecated and will be removed in a future version.\n",
            "Instructions for updating:\n",
            "Use `tf.data.Dataset.map()\n",
            "W0922 17:51:25.646119 140390469695360 deprecation.py:345] From /usr/local/lib/python3.7/dist-packages/object_detection/builders/dataset_builder.py:237: DatasetV1.map_with_legacy_function (from tensorflow.python.data.ops.dataset_ops) is deprecated and will be removed in a future version.\n",
            "Instructions for updating:\n",
            "Use `tf.data.Dataset.map()\n",
            "WARNING:tensorflow:From /usr/local/lib/python3.7/dist-packages/tensorflow/python/util/dispatch.py:206: sparse_to_dense (from tensorflow.python.ops.sparse_ops) is deprecated and will be removed in a future version.\n",
            "Instructions for updating:\n",
            "Create a `tf.sparse.SparseTensor` and use `tf.sparse.to_dense` instead.\n",
            "W0922 17:51:33.997457 140390469695360 deprecation.py:345] From /usr/local/lib/python3.7/dist-packages/tensorflow/python/util/dispatch.py:206: sparse_to_dense (from tensorflow.python.ops.sparse_ops) is deprecated and will be removed in a future version.\n",
            "Instructions for updating:\n",
            "Create a `tf.sparse.SparseTensor` and use `tf.sparse.to_dense` instead.\n",
            "WARNING:tensorflow:From /usr/local/lib/python3.7/dist-packages/tensorflow/python/util/dispatch.py:206: sample_distorted_bounding_box (from tensorflow.python.ops.image_ops_impl) is deprecated and will be removed in a future version.\n",
            "Instructions for updating:\n",
            "`seed2` arg is deprecated.Use sample_distorted_bounding_box_v2 instead.\n",
            "W0922 17:51:37.783835 140390469695360 deprecation.py:345] From /usr/local/lib/python3.7/dist-packages/tensorflow/python/util/dispatch.py:206: sample_distorted_bounding_box (from tensorflow.python.ops.image_ops_impl) is deprecated and will be removed in a future version.\n",
            "Instructions for updating:\n",
            "`seed2` arg is deprecated.Use sample_distorted_bounding_box_v2 instead.\n",
            "WARNING:tensorflow:From /usr/local/lib/python3.7/dist-packages/tensorflow/python/autograph/impl/api.py:464: to_float (from tensorflow.python.ops.math_ops) is deprecated and will be removed in a future version.\n",
            "Instructions for updating:\n",
            "Use `tf.cast` instead.\n",
            "W0922 17:51:39.804069 140390469695360 deprecation.py:345] From /usr/local/lib/python3.7/dist-packages/tensorflow/python/autograph/impl/api.py:464: to_float (from tensorflow.python.ops.math_ops) is deprecated and will be removed in a future version.\n",
            "Instructions for updating:\n",
            "Use `tf.cast` instead.\n",
            "2021-09-22 17:51:42.539390: I tensorflow/compiler/mlir/mlir_graph_optimization_pass.cc:185] None of the MLIR Optimization Passes are enabled (registered 2)\n",
            "/usr/local/lib/python3.7/dist-packages/keras/backend.py:401: UserWarning: `tf.keras.backend.set_learning_phase` is deprecated and will be removed after 2020-10-11. To update it, simply pass a True/False value to the `training` argument of the `__call__` method of your layer or model.\n",
            "  warnings.warn('`tf.keras.backend.set_learning_phase` is deprecated and '\n",
            "2021-09-22 17:52:14.026854: I tensorflow/stream_executor/cuda/cuda_dnn.cc:369] Loaded cuDNN version 8005\n",
            "WARNING:tensorflow:From /usr/local/lib/python3.7/dist-packages/tensorflow/python/util/deprecation.py:617: calling map_fn_v2 (from tensorflow.python.ops.map_fn) with dtype is deprecated and will be removed in a future version.\n",
            "Instructions for updating:\n",
            "Use fn_output_signature instead\n",
            "W0922 17:52:19.757305 140386301744896 deprecation.py:548] From /usr/local/lib/python3.7/dist-packages/tensorflow/python/util/deprecation.py:617: calling map_fn_v2 (from tensorflow.python.ops.map_fn) with dtype is deprecated and will be removed in a future version.\n",
            "Instructions for updating:\n",
            "Use fn_output_signature instead\n",
            "2021-09-22 17:53:05.701541: W tensorflow/core/common_runtime/bfc_allocator.cc:272] Allocator (GPU_0_bfc) ran out of memory trying to allocate 3.35GiB with freed_by_count=0. The caller indicates that this is not a failure, but may mean that there could be performance gains if more memory were available.\n",
            "2021-09-22 17:53:05.713117: W tensorflow/core/common_runtime/bfc_allocator.cc:272] Allocator (GPU_0_bfc) ran out of memory trying to allocate 3.42GiB with freed_by_count=0. The caller indicates that this is not a failure, but may mean that there could be performance gains if more memory were available.\n",
            "INFO:tensorflow:Step 7100 per-step time 1.808s\n",
            "I0922 17:55:19.960943 140390469695360 model_lib_v2.py:700] Step 7100 per-step time 1.808s\n",
            "INFO:tensorflow:{'Loss/classification_loss': 0.031764846,\n",
            " 'Loss/localization_loss': 0.0050534373,\n",
            " 'Loss/regularization_loss': 0.10706667,\n",
            " 'Loss/total_loss': 0.14388496,\n",
            " 'learning_rate': 0.07697967}\n",
            "I0922 17:55:19.961540 140390469695360 model_lib_v2.py:701] {'Loss/classification_loss': 0.031764846,\n",
            " 'Loss/localization_loss': 0.0050534373,\n",
            " 'Loss/regularization_loss': 0.10706667,\n",
            " 'Loss/total_loss': 0.14388496,\n",
            " 'learning_rate': 0.07697967}\n",
            "INFO:tensorflow:Step 7200 per-step time 1.319s\n",
            "I0922 17:57:31.843927 140390469695360 model_lib_v2.py:700] Step 7200 per-step time 1.319s\n",
            "INFO:tensorflow:{'Loss/classification_loss': 0.047778416,\n",
            " 'Loss/localization_loss': 0.015821258,\n",
            " 'Loss/regularization_loss': 0.10650232,\n",
            " 'Loss/total_loss': 0.170102,\n",
            " 'learning_rate': 0.07688115}\n",
            "I0922 17:57:31.844351 140390469695360 model_lib_v2.py:701] {'Loss/classification_loss': 0.047778416,\n",
            " 'Loss/localization_loss': 0.015821258,\n",
            " 'Loss/regularization_loss': 0.10650232,\n",
            " 'Loss/total_loss': 0.170102,\n",
            " 'learning_rate': 0.07688115}\n",
            "INFO:tensorflow:Step 7300 per-step time 1.328s\n",
            "I0922 17:59:44.647322 140390469695360 model_lib_v2.py:700] Step 7300 per-step time 1.328s\n",
            "INFO:tensorflow:{'Loss/classification_loss': 0.027549524,\n",
            " 'Loss/localization_loss': 0.008464658,\n",
            " 'Loss/regularization_loss': 0.10594813,\n",
            " 'Loss/total_loss': 0.1419623,\n",
            " 'learning_rate': 0.07678111}\n",
            "I0922 17:59:44.647843 140390469695360 model_lib_v2.py:701] {'Loss/classification_loss': 0.027549524,\n",
            " 'Loss/localization_loss': 0.008464658,\n",
            " 'Loss/regularization_loss': 0.10594813,\n",
            " 'Loss/total_loss': 0.1419623,\n",
            " 'learning_rate': 0.07678111}\n",
            "INFO:tensorflow:Step 7400 per-step time 1.331s\n",
            "I0922 18:01:57.724205 140390469695360 model_lib_v2.py:700] Step 7400 per-step time 1.331s\n",
            "INFO:tensorflow:{'Loss/classification_loss': 0.03283465,\n",
            " 'Loss/localization_loss': 0.0067433086,\n",
            " 'Loss/regularization_loss': 0.10539338,\n",
            " 'Loss/total_loss': 0.14497134,\n",
            " 'learning_rate': 0.076679565}\n",
            "I0922 18:01:57.724663 140390469695360 model_lib_v2.py:701] {'Loss/classification_loss': 0.03283465,\n",
            " 'Loss/localization_loss': 0.0067433086,\n",
            " 'Loss/regularization_loss': 0.10539338,\n",
            " 'Loss/total_loss': 0.14497134,\n",
            " 'learning_rate': 0.076679565}\n",
            "INFO:tensorflow:Step 7500 per-step time 1.321s\n",
            "I0922 18:04:09.805294 140390469695360 model_lib_v2.py:700] Step 7500 per-step time 1.321s\n",
            "INFO:tensorflow:{'Loss/classification_loss': 0.030288557,\n",
            " 'Loss/localization_loss': 0.006554587,\n",
            " 'Loss/regularization_loss': 0.10482896,\n",
            " 'Loss/total_loss': 0.1416721,\n",
            " 'learning_rate': 0.0765765}\n",
            "I0922 18:04:09.805722 140390469695360 model_lib_v2.py:701] {'Loss/classification_loss': 0.030288557,\n",
            " 'Loss/localization_loss': 0.006554587,\n",
            " 'Loss/regularization_loss': 0.10482896,\n",
            " 'Loss/total_loss': 0.1416721,\n",
            " 'learning_rate': 0.0765765}\n",
            "INFO:tensorflow:Step 7600 per-step time 1.325s\n",
            "I0922 18:06:22.333174 140390469695360 model_lib_v2.py:700] Step 7600 per-step time 1.325s\n",
            "INFO:tensorflow:{'Loss/classification_loss': 0.03860607,\n",
            " 'Loss/localization_loss': 0.0071143797,\n",
            " 'Loss/regularization_loss': 0.10429677,\n",
            " 'Loss/total_loss': 0.15001723,\n",
            " 'learning_rate': 0.07647194}\n",
            "I0922 18:06:22.333656 140390469695360 model_lib_v2.py:701] {'Loss/classification_loss': 0.03860607,\n",
            " 'Loss/localization_loss': 0.0071143797,\n",
            " 'Loss/regularization_loss': 0.10429677,\n",
            " 'Loss/total_loss': 0.15001723,\n",
            " 'learning_rate': 0.07647194}\n",
            "INFO:tensorflow:Step 7700 per-step time 1.318s\n",
            "I0922 18:08:34.096345 140390469695360 model_lib_v2.py:700] Step 7700 per-step time 1.318s\n",
            "INFO:tensorflow:{'Loss/classification_loss': 0.038661,\n",
            " 'Loss/localization_loss': 0.014515634,\n",
            " 'Loss/regularization_loss': 0.10385163,\n",
            " 'Loss/total_loss': 0.15702826,\n",
            " 'learning_rate': 0.07636588}\n",
            "I0922 18:08:34.096767 140390469695360 model_lib_v2.py:701] {'Loss/classification_loss': 0.038661,\n",
            " 'Loss/localization_loss': 0.014515634,\n",
            " 'Loss/regularization_loss': 0.10385163,\n",
            " 'Loss/total_loss': 0.15702826,\n",
            " 'learning_rate': 0.07636588}\n",
            "INFO:tensorflow:Step 7800 per-step time 1.324s\n",
            "I0922 18:10:46.463197 140390469695360 model_lib_v2.py:700] Step 7800 per-step time 1.324s\n",
            "INFO:tensorflow:{'Loss/classification_loss': 0.02619102,\n",
            " 'Loss/localization_loss': 0.0068375277,\n",
            " 'Loss/regularization_loss': 0.1033587,\n",
            " 'Loss/total_loss': 0.13638724,\n",
            " 'learning_rate': 0.07625833}\n",
            "I0922 18:10:46.463645 140390469695360 model_lib_v2.py:701] {'Loss/classification_loss': 0.02619102,\n",
            " 'Loss/localization_loss': 0.0068375277,\n",
            " 'Loss/regularization_loss': 0.1033587,\n",
            " 'Loss/total_loss': 0.13638724,\n",
            " 'learning_rate': 0.07625833}\n",
            "INFO:tensorflow:Step 7900 per-step time 1.326s\n",
            "I0922 18:12:59.062150 140390469695360 model_lib_v2.py:700] Step 7900 per-step time 1.326s\n",
            "INFO:tensorflow:{'Loss/classification_loss': 0.030121695,\n",
            " 'Loss/localization_loss': 0.008398483,\n",
            " 'Loss/regularization_loss': 0.102818124,\n",
            " 'Loss/total_loss': 0.1413383,\n",
            " 'learning_rate': 0.07614928}\n",
            "I0922 18:12:59.062588 140390469695360 model_lib_v2.py:701] {'Loss/classification_loss': 0.030121695,\n",
            " 'Loss/localization_loss': 0.008398483,\n",
            " 'Loss/regularization_loss': 0.102818124,\n",
            " 'Loss/total_loss': 0.1413383,\n",
            " 'learning_rate': 0.07614928}\n",
            "INFO:tensorflow:Step 8000 per-step time 1.320s\n",
            "I0922 18:15:11.020003 140390469695360 model_lib_v2.py:700] Step 8000 per-step time 1.320s\n",
            "INFO:tensorflow:{'Loss/classification_loss': 0.037205383,\n",
            " 'Loss/localization_loss': 0.01173576,\n",
            " 'Loss/regularization_loss': 0.102291144,\n",
            " 'Loss/total_loss': 0.15123229,\n",
            " 'learning_rate': 0.07603875}\n",
            "I0922 18:15:11.020400 140390469695360 model_lib_v2.py:701] {'Loss/classification_loss': 0.037205383,\n",
            " 'Loss/localization_loss': 0.01173576,\n",
            " 'Loss/regularization_loss': 0.102291144,\n",
            " 'Loss/total_loss': 0.15123229,\n",
            " 'learning_rate': 0.07603875}\n",
            "INFO:tensorflow:Reduce to /job:localhost/replica:0/task:0/device:CPU:0 then broadcast to ('/job:localhost/replica:0/task:0/device:CPU:0',).\n",
            "I0922 18:15:11.150249 140390469695360 cross_device_ops.py:621] Reduce to /job:localhost/replica:0/task:0/device:CPU:0 then broadcast to ('/job:localhost/replica:0/task:0/device:CPU:0',).\n",
            "INFO:tensorflow:Reduce to /job:localhost/replica:0/task:0/device:CPU:0 then broadcast to ('/job:localhost/replica:0/task:0/device:CPU:0',).\n",
            "I0922 18:15:11.151798 140390469695360 cross_device_ops.py:621] Reduce to /job:localhost/replica:0/task:0/device:CPU:0 then broadcast to ('/job:localhost/replica:0/task:0/device:CPU:0',).\n",
            "INFO:tensorflow:Reduce to /job:localhost/replica:0/task:0/device:CPU:0 then broadcast to ('/job:localhost/replica:0/task:0/device:CPU:0',).\n",
            "I0922 18:15:11.154786 140390469695360 cross_device_ops.py:621] Reduce to /job:localhost/replica:0/task:0/device:CPU:0 then broadcast to ('/job:localhost/replica:0/task:0/device:CPU:0',).\n",
            "INFO:tensorflow:Reduce to /job:localhost/replica:0/task:0/device:CPU:0 then broadcast to ('/job:localhost/replica:0/task:0/device:CPU:0',).\n",
            "I0922 18:15:11.155985 140390469695360 cross_device_ops.py:621] Reduce to /job:localhost/replica:0/task:0/device:CPU:0 then broadcast to ('/job:localhost/replica:0/task:0/device:CPU:0',).\n",
            "INFO:tensorflow:Reduce to /job:localhost/replica:0/task:0/device:CPU:0 then broadcast to ('/job:localhost/replica:0/task:0/device:CPU:0',).\n",
            "I0922 18:15:11.158884 140390469695360 cross_device_ops.py:621] Reduce to /job:localhost/replica:0/task:0/device:CPU:0 then broadcast to ('/job:localhost/replica:0/task:0/device:CPU:0',).\n",
            "INFO:tensorflow:Reduce to /job:localhost/replica:0/task:0/device:CPU:0 then broadcast to ('/job:localhost/replica:0/task:0/device:CPU:0',).\n",
            "I0922 18:15:11.159984 140390469695360 cross_device_ops.py:621] Reduce to /job:localhost/replica:0/task:0/device:CPU:0 then broadcast to ('/job:localhost/replica:0/task:0/device:CPU:0',).\n",
            "INFO:tensorflow:Reduce to /job:localhost/replica:0/task:0/device:CPU:0 then broadcast to ('/job:localhost/replica:0/task:0/device:CPU:0',).\n",
            "I0922 18:15:11.163087 140390469695360 cross_device_ops.py:621] Reduce to /job:localhost/replica:0/task:0/device:CPU:0 then broadcast to ('/job:localhost/replica:0/task:0/device:CPU:0',).\n",
            "INFO:tensorflow:Reduce to /job:localhost/replica:0/task:0/device:CPU:0 then broadcast to ('/job:localhost/replica:0/task:0/device:CPU:0',).\n",
            "I0922 18:15:11.164292 140390469695360 cross_device_ops.py:621] Reduce to /job:localhost/replica:0/task:0/device:CPU:0 then broadcast to ('/job:localhost/replica:0/task:0/device:CPU:0',).\n",
            "INFO:tensorflow:Reduce to /job:localhost/replica:0/task:0/device:CPU:0 then broadcast to ('/job:localhost/replica:0/task:0/device:CPU:0',).\n",
            "I0922 18:15:11.167276 140390469695360 cross_device_ops.py:621] Reduce to /job:localhost/replica:0/task:0/device:CPU:0 then broadcast to ('/job:localhost/replica:0/task:0/device:CPU:0',).\n",
            "INFO:tensorflow:Reduce to /job:localhost/replica:0/task:0/device:CPU:0 then broadcast to ('/job:localhost/replica:0/task:0/device:CPU:0',).\n",
            "I0922 18:15:11.168454 140390469695360 cross_device_ops.py:621] Reduce to /job:localhost/replica:0/task:0/device:CPU:0 then broadcast to ('/job:localhost/replica:0/task:0/device:CPU:0',).\n",
            "INFO:tensorflow:Step 8100 per-step time 1.325s\n",
            "I0922 18:17:23.556309 140390469695360 model_lib_v2.py:700] Step 8100 per-step time 1.325s\n",
            "INFO:tensorflow:{'Loss/classification_loss': 0.051806033,\n",
            " 'Loss/localization_loss': 0.010630866,\n",
            " 'Loss/regularization_loss': 0.10183774,\n",
            " 'Loss/total_loss': 0.16427463,\n",
            " 'learning_rate': 0.07592674}\n",
            "I0922 18:17:23.556783 140390469695360 model_lib_v2.py:701] {'Loss/classification_loss': 0.051806033,\n",
            " 'Loss/localization_loss': 0.010630866,\n",
            " 'Loss/regularization_loss': 0.10183774,\n",
            " 'Loss/total_loss': 0.16427463,\n",
            " 'learning_rate': 0.07592674}\n",
            "INFO:tensorflow:Step 8200 per-step time 1.312s\n",
            "I0922 18:19:34.772046 140390469695360 model_lib_v2.py:700] Step 8200 per-step time 1.312s\n",
            "INFO:tensorflow:{'Loss/classification_loss': 0.033144854,\n",
            " 'Loss/localization_loss': 0.0058493814,\n",
            " 'Loss/regularization_loss': 0.10132645,\n",
            " 'Loss/total_loss': 0.14032069,\n",
            " 'learning_rate': 0.075813256}\n",
            "I0922 18:19:34.772593 140390469695360 model_lib_v2.py:701] {'Loss/classification_loss': 0.033144854,\n",
            " 'Loss/localization_loss': 0.0058493814,\n",
            " 'Loss/regularization_loss': 0.10132645,\n",
            " 'Loss/total_loss': 0.14032069,\n",
            " 'learning_rate': 0.075813256}\n",
            "INFO:tensorflow:Step 8300 per-step time 1.316s\n",
            "I0922 18:21:46.390555 140390469695360 model_lib_v2.py:700] Step 8300 per-step time 1.316s\n",
            "INFO:tensorflow:{'Loss/classification_loss': 0.025315491,\n",
            " 'Loss/localization_loss': 0.005491687,\n",
            " 'Loss/regularization_loss': 0.10080103,\n",
            " 'Loss/total_loss': 0.1316082,\n",
            " 'learning_rate': 0.07569829}\n",
            "I0922 18:21:46.390920 140390469695360 model_lib_v2.py:701] {'Loss/classification_loss': 0.025315491,\n",
            " 'Loss/localization_loss': 0.005491687,\n",
            " 'Loss/regularization_loss': 0.10080103,\n",
            " 'Loss/total_loss': 0.1316082,\n",
            " 'learning_rate': 0.07569829}\n",
            "INFO:tensorflow:Step 8400 per-step time 1.325s\n",
            "I0922 18:23:58.888573 140390469695360 model_lib_v2.py:700] Step 8400 per-step time 1.325s\n",
            "INFO:tensorflow:{'Loss/classification_loss': 0.03257794,\n",
            " 'Loss/localization_loss': 0.0069439975,\n",
            " 'Loss/regularization_loss': 0.10028307,\n",
            " 'Loss/total_loss': 0.139805,\n",
            " 'learning_rate': 0.07558186}\n",
            "I0922 18:23:58.889052 140390469695360 model_lib_v2.py:701] {'Loss/classification_loss': 0.03257794,\n",
            " 'Loss/localization_loss': 0.0069439975,\n",
            " 'Loss/regularization_loss': 0.10028307,\n",
            " 'Loss/total_loss': 0.139805,\n",
            " 'learning_rate': 0.07558186}\n",
            "INFO:tensorflow:Step 8500 per-step time 1.321s\n",
            "I0922 18:26:10.993800 140390469695360 model_lib_v2.py:700] Step 8500 per-step time 1.321s\n",
            "INFO:tensorflow:{'Loss/classification_loss': 0.032057695,\n",
            " 'Loss/localization_loss': 0.009612712,\n",
            " 'Loss/regularization_loss': 0.09975996,\n",
            " 'Loss/total_loss': 0.14143036,\n",
            " 'learning_rate': 0.07546397}\n",
            "I0922 18:26:10.994217 140390469695360 model_lib_v2.py:701] {'Loss/classification_loss': 0.032057695,\n",
            " 'Loss/localization_loss': 0.009612712,\n",
            " 'Loss/regularization_loss': 0.09975996,\n",
            " 'Loss/total_loss': 0.14143036,\n",
            " 'learning_rate': 0.07546397}\n",
            "INFO:tensorflow:Step 8600 per-step time 1.333s\n",
            "I0922 18:28:24.272927 140390469695360 model_lib_v2.py:700] Step 8600 per-step time 1.333s\n",
            "INFO:tensorflow:{'Loss/classification_loss': 0.051430523,\n",
            " 'Loss/localization_loss': 0.017127309,\n",
            " 'Loss/regularization_loss': 0.099266395,\n",
            " 'Loss/total_loss': 0.16782422,\n",
            " 'learning_rate': 0.075344615}\n",
            "I0922 18:28:24.273407 140390469695360 model_lib_v2.py:701] {'Loss/classification_loss': 0.051430523,\n",
            " 'Loss/localization_loss': 0.017127309,\n",
            " 'Loss/regularization_loss': 0.099266395,\n",
            " 'Loss/total_loss': 0.16782422,\n",
            " 'learning_rate': 0.075344615}\n",
            "INFO:tensorflow:Step 8700 per-step time 1.317s\n",
            "I0922 18:30:36.018593 140390469695360 model_lib_v2.py:700] Step 8700 per-step time 1.317s\n",
            "INFO:tensorflow:{'Loss/classification_loss': 0.018479293,\n",
            " 'Loss/localization_loss': 0.0068240413,\n",
            " 'Loss/regularization_loss': 0.09876267,\n",
            " 'Loss/total_loss': 0.124066,\n",
            " 'learning_rate': 0.07522382}\n",
            "I0922 18:30:36.019013 140390469695360 model_lib_v2.py:701] {'Loss/classification_loss': 0.018479293,\n",
            " 'Loss/localization_loss': 0.0068240413,\n",
            " 'Loss/regularization_loss': 0.09876267,\n",
            " 'Loss/total_loss': 0.124066,\n",
            " 'learning_rate': 0.07522382}\n",
            "INFO:tensorflow:Step 8800 per-step time 1.318s\n",
            "I0922 18:32:47.836885 140390469695360 model_lib_v2.py:700] Step 8800 per-step time 1.318s\n",
            "INFO:tensorflow:{'Loss/classification_loss': 0.035203658,\n",
            " 'Loss/localization_loss': 0.015078512,\n",
            " 'Loss/regularization_loss': 0.09824828,\n",
            " 'Loss/total_loss': 0.14853045,\n",
            " 'learning_rate': 0.07510157}\n",
            "I0922 18:32:47.837305 140390469695360 model_lib_v2.py:701] {'Loss/classification_loss': 0.035203658,\n",
            " 'Loss/localization_loss': 0.015078512,\n",
            " 'Loss/regularization_loss': 0.09824828,\n",
            " 'Loss/total_loss': 0.14853045,\n",
            " 'learning_rate': 0.07510157}\n",
            "INFO:tensorflow:Step 8900 per-step time 1.321s\n",
            "I0922 18:34:59.916757 140390469695360 model_lib_v2.py:700] Step 8900 per-step time 1.321s\n",
            "INFO:tensorflow:{'Loss/classification_loss': 0.029494647,\n",
            " 'Loss/localization_loss': 0.004216674,\n",
            " 'Loss/regularization_loss': 0.09773603,\n",
            " 'Loss/total_loss': 0.13144735,\n",
            " 'learning_rate': 0.074977875}\n",
            "I0922 18:34:59.917237 140390469695360 model_lib_v2.py:701] {'Loss/classification_loss': 0.029494647,\n",
            " 'Loss/localization_loss': 0.004216674,\n",
            " 'Loss/regularization_loss': 0.09773603,\n",
            " 'Loss/total_loss': 0.13144735,\n",
            " 'learning_rate': 0.074977875}\n",
            "INFO:tensorflow:Step 9000 per-step time 1.316s\n",
            "I0922 18:37:11.546817 140390469695360 model_lib_v2.py:700] Step 9000 per-step time 1.316s\n",
            "INFO:tensorflow:{'Loss/classification_loss': 0.029722476,\n",
            " 'Loss/localization_loss': 0.005240156,\n",
            " 'Loss/regularization_loss': 0.09723645,\n",
            " 'Loss/total_loss': 0.13219908,\n",
            " 'learning_rate': 0.07485275}\n",
            "I0922 18:37:11.547396 140390469695360 model_lib_v2.py:701] {'Loss/classification_loss': 0.029722476,\n",
            " 'Loss/localization_loss': 0.005240156,\n",
            " 'Loss/regularization_loss': 0.09723645,\n",
            " 'Loss/total_loss': 0.13219908,\n",
            " 'learning_rate': 0.07485275}\n",
            "INFO:tensorflow:Step 9100 per-step time 1.332s\n",
            "I0922 18:39:24.748081 140390469695360 model_lib_v2.py:700] Step 9100 per-step time 1.332s\n",
            "INFO:tensorflow:{'Loss/classification_loss': 0.034828268,\n",
            " 'Loss/localization_loss': 0.0058804587,\n",
            " 'Loss/regularization_loss': 0.09672328,\n",
            " 'Loss/total_loss': 0.13743201,\n",
            " 'learning_rate': 0.07472619}\n",
            "I0922 18:39:24.748499 140390469695360 model_lib_v2.py:701] {'Loss/classification_loss': 0.034828268,\n",
            " 'Loss/localization_loss': 0.0058804587,\n",
            " 'Loss/regularization_loss': 0.09672328,\n",
            " 'Loss/total_loss': 0.13743201,\n",
            " 'learning_rate': 0.07472619}\n",
            "INFO:tensorflow:Step 9200 per-step time 1.324s\n",
            "I0922 18:41:37.193378 140390469695360 model_lib_v2.py:700] Step 9200 per-step time 1.324s\n",
            "INFO:tensorflow:{'Loss/classification_loss': 0.03057342,\n",
            " 'Loss/localization_loss': 0.008801635,\n",
            " 'Loss/regularization_loss': 0.096237674,\n",
            " 'Loss/total_loss': 0.13561273,\n",
            " 'learning_rate': 0.07459819}\n",
            "I0922 18:41:37.193801 140390469695360 model_lib_v2.py:701] {'Loss/classification_loss': 0.03057342,\n",
            " 'Loss/localization_loss': 0.008801635,\n",
            " 'Loss/regularization_loss': 0.096237674,\n",
            " 'Loss/total_loss': 0.13561273,\n",
            " 'learning_rate': 0.07459819}\n",
            "INFO:tensorflow:Step 9300 per-step time 1.324s\n",
            "I0922 18:43:49.586431 140390469695360 model_lib_v2.py:700] Step 9300 per-step time 1.324s\n",
            "INFO:tensorflow:{'Loss/classification_loss': 0.025743261,\n",
            " 'Loss/localization_loss': 0.0054792305,\n",
            " 'Loss/regularization_loss': 0.09574235,\n",
            " 'Loss/total_loss': 0.12696484,\n",
            " 'learning_rate': 0.074468784}\n",
            "I0922 18:43:49.586848 140390469695360 model_lib_v2.py:701] {'Loss/classification_loss': 0.025743261,\n",
            " 'Loss/localization_loss': 0.0054792305,\n",
            " 'Loss/regularization_loss': 0.09574235,\n",
            " 'Loss/total_loss': 0.12696484,\n",
            " 'learning_rate': 0.074468784}\n",
            "INFO:tensorflow:Step 9400 per-step time 1.335s\n",
            "I0922 18:46:03.081185 140390469695360 model_lib_v2.py:700] Step 9400 per-step time 1.335s\n",
            "INFO:tensorflow:{'Loss/classification_loss': 0.030208685,\n",
            " 'Loss/localization_loss': 0.0047768354,\n",
            " 'Loss/regularization_loss': 0.095250934,\n",
            " 'Loss/total_loss': 0.13023645,\n",
            " 'learning_rate': 0.074337944}\n",
            "I0922 18:46:03.081677 140390469695360 model_lib_v2.py:701] {'Loss/classification_loss': 0.030208685,\n",
            " 'Loss/localization_loss': 0.0047768354,\n",
            " 'Loss/regularization_loss': 0.095250934,\n",
            " 'Loss/total_loss': 0.13023645,\n",
            " 'learning_rate': 0.074337944}\n",
            "INFO:tensorflow:Step 9500 per-step time 1.321s\n",
            "I0922 18:48:15.179597 140390469695360 model_lib_v2.py:700] Step 9500 per-step time 1.321s\n",
            "INFO:tensorflow:{'Loss/classification_loss': 0.044245332,\n",
            " 'Loss/localization_loss': 0.014116049,\n",
            " 'Loss/regularization_loss': 0.09476834,\n",
            " 'Loss/total_loss': 0.15312973,\n",
            " 'learning_rate': 0.074205704}\n",
            "I0922 18:48:15.180008 140390469695360 model_lib_v2.py:701] {'Loss/classification_loss': 0.044245332,\n",
            " 'Loss/localization_loss': 0.014116049,\n",
            " 'Loss/regularization_loss': 0.09476834,\n",
            " 'Loss/total_loss': 0.15312973,\n",
            " 'learning_rate': 0.074205704}\n",
            "INFO:tensorflow:Step 9600 per-step time 1.322s\n",
            "I0922 18:50:27.366020 140390469695360 model_lib_v2.py:700] Step 9600 per-step time 1.322s\n",
            "INFO:tensorflow:{'Loss/classification_loss': 0.024612702,\n",
            " 'Loss/localization_loss': 0.005572608,\n",
            " 'Loss/regularization_loss': 0.094298415,\n",
            " 'Loss/total_loss': 0.12448373,\n",
            " 'learning_rate': 0.07407206}\n",
            "I0922 18:50:27.366419 140390469695360 model_lib_v2.py:701] {'Loss/classification_loss': 0.024612702,\n",
            " 'Loss/localization_loss': 0.005572608,\n",
            " 'Loss/regularization_loss': 0.094298415,\n",
            " 'Loss/total_loss': 0.12448373,\n",
            " 'learning_rate': 0.07407206}\n",
            "INFO:tensorflow:Step 9700 per-step time 1.326s\n",
            "I0922 18:52:39.970859 140390469695360 model_lib_v2.py:700] Step 9700 per-step time 1.326s\n",
            "INFO:tensorflow:{'Loss/classification_loss': 0.048894335,\n",
            " 'Loss/localization_loss': 0.0086635435,\n",
            " 'Loss/regularization_loss': 0.093820535,\n",
            " 'Loss/total_loss': 0.15137841,\n",
            " 'learning_rate': 0.073937014}\n",
            "I0922 18:52:39.971290 140390469695360 model_lib_v2.py:701] {'Loss/classification_loss': 0.048894335,\n",
            " 'Loss/localization_loss': 0.0086635435,\n",
            " 'Loss/regularization_loss': 0.093820535,\n",
            " 'Loss/total_loss': 0.15137841,\n",
            " 'learning_rate': 0.073937014}\n",
            "INFO:tensorflow:Step 9800 per-step time 1.325s\n",
            "I0922 18:54:52.515428 140390469695360 model_lib_v2.py:700] Step 9800 per-step time 1.325s\n",
            "INFO:tensorflow:{'Loss/classification_loss': 0.032098006,\n",
            " 'Loss/localization_loss': 0.009165503,\n",
            " 'Loss/regularization_loss': 0.09337683,\n",
            " 'Loss/total_loss': 0.13464034,\n",
            " 'learning_rate': 0.07380057}\n",
            "I0922 18:54:52.515898 140390469695360 model_lib_v2.py:701] {'Loss/classification_loss': 0.032098006,\n",
            " 'Loss/localization_loss': 0.009165503,\n",
            " 'Loss/regularization_loss': 0.09337683,\n",
            " 'Loss/total_loss': 0.13464034,\n",
            " 'learning_rate': 0.07380057}\n",
            "INFO:tensorflow:Step 9900 per-step time 1.331s\n",
            "I0922 18:57:05.579578 140390469695360 model_lib_v2.py:700] Step 9900 per-step time 1.331s\n",
            "INFO:tensorflow:{'Loss/classification_loss': 0.036344737,\n",
            " 'Loss/localization_loss': 0.009512546,\n",
            " 'Loss/regularization_loss': 0.09291079,\n",
            " 'Loss/total_loss': 0.13876808,\n",
            " 'learning_rate': 0.073662736}\n",
            "I0922 18:57:05.579962 140390469695360 model_lib_v2.py:701] {'Loss/classification_loss': 0.036344737,\n",
            " 'Loss/localization_loss': 0.009512546,\n",
            " 'Loss/regularization_loss': 0.09291079,\n",
            " 'Loss/total_loss': 0.13876808,\n",
            " 'learning_rate': 0.073662736}\n",
            "INFO:tensorflow:Step 10000 per-step time 1.327s\n",
            "I0922 18:59:18.263023 140390469695360 model_lib_v2.py:700] Step 10000 per-step time 1.327s\n",
            "INFO:tensorflow:{'Loss/classification_loss': 0.04923811,\n",
            " 'Loss/localization_loss': 0.016197994,\n",
            " 'Loss/regularization_loss': 0.09243871,\n",
            " 'Loss/total_loss': 0.15787482,\n",
            " 'learning_rate': 0.07352352}\n",
            "I0922 18:59:18.263544 140390469695360 model_lib_v2.py:701] {'Loss/classification_loss': 0.04923811,\n",
            " 'Loss/localization_loss': 0.016197994,\n",
            " 'Loss/regularization_loss': 0.09243871,\n",
            " 'Loss/total_loss': 0.15787482,\n",
            " 'learning_rate': 0.07352352}\n"
          ]
        }
      ]
    },
    {
      "cell_type": "code",
      "metadata": {
        "id": "0lVPaciuXCJ7"
      },
      "source": [
        ""
      ],
      "execution_count": null,
      "outputs": []
    },
    {
      "cell_type": "code",
      "metadata": {
        "id": "7CL8UvygXCX2"
      },
      "source": [
        ""
      ],
      "execution_count": null,
      "outputs": []
    },
    {
      "cell_type": "code",
      "metadata": {
        "id": "jwAw00uUc9oD"
      },
      "source": [
        ""
      ],
      "execution_count": null,
      "outputs": []
    },
    {
      "cell_type": "code",
      "metadata": {
        "id": "hfTwIPeoaWDv"
      },
      "source": [
        ""
      ],
      "execution_count": null,
      "outputs": []
    }
  ]
}