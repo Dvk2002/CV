{
 "cells": [
  {
   "cell_type": "code",
   "execution_count": null,
   "metadata": {
    "id": "lJ6K7zhjFE_R"
   },
   "outputs": [],
   "source": []
  },
  {
   "cell_type": "code",
   "execution_count": 2,
   "metadata": {
    "id": "iv4yU3Gb4MlY"
   },
   "outputs": [],
   "source": [
    "import os\n",
    "import glob\n",
    "import random\n",
    "import numpy as np\n",
    "import matplotlib.pyplot as plt\n",
    "import tensorflow as tf"
   ]
  },
  {
   "cell_type": "code",
   "execution_count": 7,
   "metadata": {
    "colab": {
     "base_uri": "https://localhost:8080/"
    },
    "id": "gyzfG2KwfJhz",
    "outputId": "1ebec5b9-0a26-4ecb-b707-bfa7344b3824"
   },
   "outputs": [
    {
     "name": "stdout",
     "output_type": "stream",
     "text": [
      "Mounted at /content/drive\n"
     ]
    }
   ],
   "source": [
    "from google.colab import drive\n",
    "drive.mount('/content/drive')"
   ]
  },
  {
   "cell_type": "code",
   "execution_count": 4,
   "metadata": {
    "id": "FUGz3vd6m-4U"
   },
   "outputs": [],
   "source": [
    "gpus = tf.config.list_physical_devices('GPU')\n",
    "tf.config.set_visible_devices(gpus[0], 'GPU')\n",
    "# tf.config.LogicalDeviceConfiguration(memory_limit=1024)"
   ]
  },
  {
   "cell_type": "code",
   "execution_count": 5,
   "metadata": {
    "colab": {
     "base_uri": "https://localhost:8080/"
    },
    "id": "jicylMurFO8_",
    "outputId": "feb195db-8e32-42f6-d5b4-10760bd65939"
   },
   "outputs": [
    {
     "name": "stdout",
     "output_type": "stream",
     "text": [
      "Collecting scikit-video==1.1.11\n",
      "  Downloading scikit_video-1.1.11-py2.py3-none-any.whl (2.3 MB)\n",
      "\u001b[K     |████████████████████████████████| 2.3 MB 5.3 MB/s \n",
      "\u001b[?25hRequirement already satisfied: pillow in /usr/local/lib/python3.7/dist-packages (from scikit-video==1.1.11) (7.1.2)\n",
      "Requirement already satisfied: numpy in /usr/local/lib/python3.7/dist-packages (from scikit-video==1.1.11) (1.19.5)\n",
      "Requirement already satisfied: scipy in /usr/local/lib/python3.7/dist-packages (from scikit-video==1.1.11) (1.4.1)\n",
      "Installing collected packages: scikit-video\n",
      "Successfully installed scikit-video-1.1.11\n"
     ]
    }
   ],
   "source": [
    "if 1:\n",
    "    !pip install scikit-video==1.1.11\n",
    "import skvideo.io"
   ]
  },
  {
   "cell_type": "code",
   "execution_count": 13,
   "metadata": {
    "colab": {
     "base_uri": "https://localhost:8080/"
    },
    "id": "xXx10w4T7JcT",
    "outputId": "876d68e8-f04a-40e2-aa6e-a04d6411a7d2"
   },
   "outputs": [
    {
     "name": "stdout",
     "output_type": "stream",
     "text": [
      "Processing class: walking\n",
      "Processing class: jogging\n",
      "Processing class: running\n",
      "Processing class: boxing\n",
      "Processing class: handwaving\n",
      "Processing class: handclapping\n"
     ]
    }
   ],
   "source": [
    "classes = [\n",
    "    'walking',\n",
    "    'jogging',\n",
    "    'running',\n",
    "    'boxing',\n",
    "    'handwaving',\n",
    "    'handclapping',\n",
    "]\n",
    "\n",
    "dataset = []\n",
    "data_root = '/content/drive/MyDrive/Colab_Notebooks/CV/L7/'\n",
    "for cls in classes:\n",
    "    print('Processing class: {}'.format(cls))\n",
    "    for fpath in glob.glob(os.path.join(data_root, cls, '*.avi')):\n",
    "        cls_idx = classes.index(cls)\n",
    "        dataset.append((fpath, cls_idx))"
   ]
  },
  {
   "cell_type": "code",
   "execution_count": 14,
   "metadata": {
    "colab": {
     "base_uri": "https://localhost:8080/"
    },
    "id": "_UgIQ6ECGaCl",
    "outputId": "c7703464-215c-4910-bc03-1925e3fb9bc7"
   },
   "outputs": [
    {
     "name": "stdout",
     "output_type": "stream",
     "text": [
      "Dataset samples (subset): 200\n"
     ]
    }
   ],
   "source": [
    "SUBSET_LEN = 200\n",
    "random.shuffle(dataset)\n",
    "dataset_train = dataset[:SUBSET_LEN]\n",
    "dataset_test=dataset[SUBSET_LEN:int(SUBSET_LEN*1.1)]\n",
    "print('Dataset samples (subset):', len(dataset_train))"
   ]
  },
  {
   "cell_type": "code",
   "execution_count": 27,
   "metadata": {
    "id": "jKTMf-VI4qEm"
   },
   "outputs": [],
   "source": [
    "weight_decay=0.001\n",
    "wd=tf.keras.regularizers.L2(weight_decay)"
   ]
  },
  {
   "cell_type": "code",
   "execution_count": 31,
   "metadata": {
    "id": "ByVPYBGtG51c"
   },
   "outputs": [],
   "source": [
    "model = tf.keras.Sequential([\n",
    "    tf.keras.layers.ConvLSTM2D(64, (3, 3),strides=3,padding='same',kernel_regularizer=wd,  activation='relu'),\n",
    "    tf.keras.layers.LayerNormalization(),\n",
    "    tf.keras.layers.GlobalAveragePooling2D(),\n",
    "    tf.keras.layers.Dense(64, activation='relu',kernel_regularizer=wd),\n",
    "     tf.keras.layers.Dropout(0.3),\n",
    "    tf.keras.layers.Dense(6, activation=None),\n",
    "])"
   ]
  },
  {
   "cell_type": "code",
   "execution_count": 32,
   "metadata": {
    "id": "MNHvR_oZYKES"
   },
   "outputs": [],
   "source": [
    "NUM_EPOCHS = 3\n",
    "LEARNING_RATE = 0.00001\n",
    "\n",
    "model.compile(\n",
    "    loss=tf.keras.losses.SparseCategoricalCrossentropy(from_logits=True), \n",
    "    optimizer=tf.keras.optimizers.Adam(LEARNING_RATE))\n"
   ]
  },
  {
   "cell_type": "code",
   "execution_count": 33,
   "metadata": {
    "colab": {
     "base_uri": "https://localhost:8080/"
    },
    "id": "cYmm3TPLefn4",
    "outputId": "27cdd8e5-c398-49df-9c4a-30f80d2eb216"
   },
   "outputs": [
    {
     "name": "stdout",
     "output_type": "stream",
     "text": [
      "[0/3][0/599] Loss = 1.6768 Val_Loss= 1.9116\n",
      "[0/3][40/599] Loss = 2.006 Val_Loss= 1.9105\n",
      "[0/3][80/599] Loss = 2.614 Val_Loss= 1.9103\n",
      "[0/3][120/599] Loss = 1.9727 Val_Loss= 1.8986\n",
      "[0/3][160/599] Loss = 1.8228 Val_Loss= 1.8921\n",
      "0 epoch_loss_mean:  1.907724906206131\n",
      "[1/3][0/599] Loss = 1.8194 Val_Loss= 1.8808\n",
      "[1/3][40/599] Loss = 1.9764 Val_Loss= 1.8785\n",
      "[1/3][80/599] Loss = 2.4484 Val_Loss= 1.8795\n",
      "[1/3][120/599] Loss = 1.5212 Val_Loss= 1.8709\n",
      "[1/3][160/599] Loss = 1.6603 Val_Loss= 1.8738\n",
      "1 epoch_loss_mean:  1.8865015083551406\n",
      "[2/3][0/599] Loss = 1.9076 Val_Loss= 1.8681\n",
      "[2/3][40/599] Loss = 1.7923 Val_Loss= 1.8675\n",
      "[2/3][80/599] Loss = 1.7948 Val_Loss= 1.87\n",
      "[2/3][120/599] Loss = 2.1192 Val_Loss= 1.8644\n",
      "[2/3][160/599] Loss = 1.7684 Val_Loss= 1.866\n",
      "2 epoch_loss_mean:  1.8690517675876617\n"
     ]
    }
   ],
   "source": [
    "global_step = 0\n",
    "for ep in range(NUM_EPOCHS):\n",
    "  res=[]\n",
    "  for iter, (fpath, label) in enumerate(dataset_train):\n",
    "      videodata = skvideo.io.vread(fpath)\n",
    "      videodata = videodata.astype(np.float32) / 255.\n",
    "      videodata=tf.image.resize(videodata, (60,80))\n",
    "      videodata= np.mean(videodata, axis=3, keepdims=True)\n",
    "      x = videodata[None, ...]\n",
    "    \n",
    "      y = np.array(label)[None, ...]\n",
    "\n",
    "      loss_value = model.train_on_batch(x, y)\n",
    "      res.append(loss_value)\n",
    "\n",
    "\n",
    "      if iter % 40 == 0:\n",
    "        res_test=[]\n",
    "\n",
    "        for (fpath_test, label_test) in dataset_test:\n",
    "\n",
    "          videodata_test = skvideo.io.vread(fpath_test)\n",
    "          videodata_test = videodata_test.astype(np.float32) / 255.\n",
    "          videodata_test=tf.image.resize(videodata_test, (60,80))\n",
    "          videodata_test= np.mean(videodata_test, axis=3, keepdims=True)\n",
    "          x_test = videodata_test[None, ...]    \n",
    "          y_test = np.array(label_test)[None, ...]    \n",
    "          loss_value_test=model.test_on_batch(x_test,y_test)\n",
    "          res_test.append(loss_value_test)\n",
    "\n",
    "        print(f'[{ep}/{NUM_EPOCHS}][{iter}/{len(dataset)}] Loss = {round(loss_value,4)} Val_Loss= {round(np.mean(res_test),4)}')\n",
    "  print(f'{ep} epoch_loss_mean: ', np.mean(res))"
   ]
  },
  {
   "cell_type": "code",
   "execution_count": null,
   "metadata": {
    "id": "KmeeFIthLT9v"
   },
   "outputs": [],
   "source": [
    "fpath_test=dataset_test[0][0]\n",
    "label_test=dataset_test[0][1]\n",
    "video_test = skvideo.io.vread(fpath_test)\n",
    "video_test = video_test.astype(np.float32) / 255.\n",
    "video_test=tf.image.resize(video_test, (60,80))\n",
    "video_test= np.mean(video_test, axis=3, keepdims=True)\n",
    "x_test = video_test[None, ...]    "
   ]
  },
  {
   "cell_type": "code",
   "execution_count": 36,
   "metadata": {
    "id": "QwZLj32uLUCQ"
   },
   "outputs": [],
   "source": [
    "out = model(x_test)[0]\n",
    "cls_pred = np.argmax(out.numpy())"
   ]
  },
  {
   "cell_type": "code",
   "execution_count": 39,
   "metadata": {
    "colab": {
     "base_uri": "https://localhost:8080/"
    },
    "id": "FvOB8-q-LmWw",
    "outputId": "dab8fe44-1845-4940-945e-9f6a18993aa3"
   },
   "outputs": [
    {
     "data": {
      "text/plain": [
       "(3, 3)"
      ]
     },
     "execution_count": 39,
     "metadata": {},
     "output_type": "execute_result"
    }
   ],
   "source": [
    "cls_pred, label_test"
   ]
  }
 ],
 "metadata": {
  "accelerator": "GPU",
  "colab": {
   "collapsed_sections": [],
   "name": "Untitled0.ipynb",
   "provenance": []
  },
  "kernelspec": {
   "display_name": "Python 3 (ipykernel)",
   "language": "python",
   "name": "python3"
  },
  "language_info": {
   "codemirror_mode": {
    "name": "ipython",
    "version": 3
   },
   "file_extension": ".py",
   "mimetype": "text/x-python",
   "name": "python",
   "nbconvert_exporter": "python",
   "pygments_lexer": "ipython3",
   "version": "3.8.11"
  }
 },
 "nbformat": 4,
 "nbformat_minor": 1
}
